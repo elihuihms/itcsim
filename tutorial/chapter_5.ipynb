{
 "cells": [
  {
   "cell_type": "code",
   "execution_count": 1,
   "metadata": {},
   "outputs": [],
   "source": [
    "%matplotlib inline\n",
    "\n",
    "import sys, os\n",
    "sys.path.append(os.path.abspath(\"..\")) # add parent directory for import"
   ]
  },
  {
   "cell_type": "markdown",
   "metadata": {},
   "source": [
    "## Chapter 5 : Using the Manipulator\n",
    "\n",
    "In this last chapter, we'll utilize the itcsimlib Manipulator object, which allows the user to modify model parameters in real-time to see their effect on fits.\n",
    "\n",
    "Note that for this chapter to work properly, you'll need Tk/Tkinter installed. If you're using the Anaconda python package, this is really simple: https://anaconda.org/anaconda/tk"
   ]
  },
  {
   "cell_type": "code",
   "execution_count": 2,
   "metadata": {},
   "outputs": [],
   "source": [
    "from itcsimlib import *\n",
    "from itcsimlib.manipulator import Manipulator\n",
    "\n",
    "sim = ITCSim(T0=298.15,units=\"kcal\",verbose=True)"
   ]
  },
  {
   "cell_type": "markdown",
   "metadata": {},
   "source": [
    "Let's add four experiments at different concentrations and temperatures:"
   ]
  },
  {
   "cell_type": "code",
   "execution_count": 3,
   "metadata": {},
   "outputs": [
    {
     "data": {
      "text/plain": [
       "<itcsimlib.itc_experiment.ITCExperimentSynthetic at 0x1c1e917e80>"
      ]
     },
     "execution_count": 3,
     "metadata": {},
     "output_type": "execute_result"
    }
   ],
   "source": [
    "sim.add_experiment_synthetic(\n",
    "    T=298.15,\n",
    "    V0=1416.6,\n",
    "    injections=[5.0]*50,\n",
    "    Cell={\"Macromolecule\":0.5E-6},\n",
    "    Syringe={\"Ligand\":10E-6},\n",
    "    noise=0.5,\n",
    "    title='Test_Experiment_1')\n",
    "\n",
    "sim.add_experiment_synthetic(\n",
    "    T=298.15,\n",
    "    V0=1416.6,\n",
    "    injections=[5.0]*50,\n",
    "    Cell={\"Macromolecule\":1E-6},\n",
    "    Syringe={\"Ligand\":20E-6},\n",
    "    noise=0.5,\n",
    "    title='Test_Experiment_2')\n",
    "\n",
    "sim.add_experiment_synthetic(\n",
    "    T=278.15,\n",
    "    V0=1416.6,\n",
    "    injections=[5.0]*50,\n",
    "    Cell={\"Macromolecule\":0.5E-6},\n",
    "    Syringe={\"Ligand\":10E-6},\n",
    "    noise=0.5,\n",
    "    title='Test_Experiment_3')\n",
    "\n",
    "sim.add_experiment_synthetic(\n",
    "    T=278.15,\n",
    "    V0=1416.6,\n",
    "    injections=[5.0]*50,\n",
    "    Cell={\"Macromolecule\":1E-6},\n",
    "    Syringe={\"Ligand\":20E-6},\n",
    "    noise=0.5,\n",
    "    title='Test_Experiment_4')"
   ]
  },
  {
   "cell_type": "markdown",
   "metadata": {},
   "source": [
    "Let's use a simple two-site model, and give it some starting conditions:"
   ]
  },
  {
   "cell_type": "code",
   "execution_count": 4,
   "metadata": {},
   "outputs": [
    {
     "name": "stderr",
     "output_type": "stream",
     "text": [
      "/Users/elihuihms/anaconda3/lib/python3.7/site-packages/IPython/core/interactiveshell.py:2880: UserWarning: Convergence precision is greater than 1% of mode 1 Kd (4.7E-08). Setting precision to 1E-10.\n",
      "  return runner(coro)\n",
      "/Users/elihuihms/anaconda3/lib/python3.7/site-packages/IPython/core/interactiveshell.py:2880: UserWarning: Convergence precision is greater than 1% of mode 2 Kd (8.6E-09). Setting precision to 1E-11.\n",
      "  return runner(coro)\n"
     ]
    },
    {
     "data": {
      "text/plain": [
       "34179.627235687076"
      ]
     },
     "execution_count": 4,
     "metadata": {},
     "output_type": "execute_result"
    }
   ],
   "source": [
    "from itcsimlib.model_independent import NModes\n",
    "sim.set_model( NModes(modes=2) )\n",
    "sim.set_model_params( n1=1,n2=1,dG1=-10,dG2=-11,dH1=-10,dH2=-10,dCp1=-3,dCp2=-3 )\n",
    "sim.run()"
   ]
  },
  {
   "cell_type": "markdown",
   "metadata": {},
   "source": [
    "To change model parameters in real-time, simply instantiate a Manipulator object:"
   ]
  },
  {
   "cell_type": "code",
   "execution_count": 5,
   "metadata": {},
   "outputs": [
    {
     "data": {
      "text/plain": [
       "<itcsimlib.manipulator.Manipulator object .>"
      ]
     },
     "execution_count": 5,
     "metadata": {},
     "output_type": "execute_result"
    }
   ],
   "source": [
    "Manipulator( sim )"
   ]
  },
  {
   "cell_type": "markdown",
   "metadata": {},
   "source": [
    "When you run this script, move the sliders around to see how the different parameter values affect the fits.\n",
    "\n",
    "If you move a slider to the end of the scale, it will automatically rescale and permit a greater range. You can also type precise desired values into the entry field near each parameter name.\n",
    "\n",
    "This concludes the tutorial chapters. If you have suggestions or comments, please contact the developer at mail@elihuihms.com!"
   ]
  },
  {
   "cell_type": "code",
   "execution_count": null,
   "metadata": {},
   "outputs": [],
   "source": [
    "sim.done()"
   ]
  }
 ],
 "metadata": {
  "kernelspec": {
   "display_name": "Python 3",
   "language": "python",
   "name": "python3"
  },
  "language_info": {
   "codemirror_mode": {
    "name": "ipython",
    "version": 3
   },
   "file_extension": ".py",
   "mimetype": "text/x-python",
   "name": "python",
   "nbconvert_exporter": "python",
   "pygments_lexer": "ipython3",
   "version": "3.7.3"
  }
 },
 "nbformat": 4,
 "nbformat_minor": 2
}
