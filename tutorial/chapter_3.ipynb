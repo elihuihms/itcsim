{
 "cells": [
  {
   "cell_type": "code",
   "execution_count": 1,
   "metadata": {
    "tags": [
     "hide_input"
    ]
   },
   "outputs": [],
   "source": [
    "%matplotlib inline\n",
    "\n",
    "import sys, os\n",
    "sys.path.append(os.path.abspath(\"..\")) # add parent directory for import"
   ]
  },
  {
   "cell_type": "markdown",
   "metadata": {},
   "source": [
    "## Chapter 3 : Using The Grid\n",
    "\n",
    "In the previous chapter we used itcsimlib to identify a combination of model parameters that optimized a fit to three sets of experimental data.\n",
    "\n",
    "However, just as important as finding best-fit parameter values is estimating the confidence intervals for those values. Itcsimlib can do this through several ways, but the simplest is bootstrapped (also known as jackknife) uncertainty estimation.\n",
    "\n",
    "As usual, set up the simulator, load the experimental datasets we used in chapter two, and initialize the `ITCFit` object:"
   ]
  },
  {
   "cell_type": "code",
   "execution_count": 2,
   "metadata": {},
   "outputs": [],
   "source": [
    "from itcsimlib import *\n",
    "from itcsimlib.model_independent import *\n",
    "\n",
    "sim = ITCSim(T0=298.15, units=\"kcal\", verbose=False)\n",
    "sim.set_model( OneMode() )\n",
    "sim.add_experiment_file('chapter_2_example_288K.txt', skip=[0])\n",
    "sim.add_experiment_file('chapter_2_example_298K.txt', skip=[0])\n",
    "sim.add_experiment_file('chapter_2_example_308K.txt', skip=[0])\n",
    "\n",
    "fit = ITCFit( sim, verbose=False )"
   ]
  },
  {
   "cell_type": "markdown",
   "metadata": {},
   "source": [
    "Next, retrieve and apply the optimized parameters we generated in the previous chapter:"
   ]
  },
  {
   "cell_type": "code",
   "execution_count": 3,
   "metadata": {},
   "outputs": [],
   "source": [
    "from itcsimlib.utilities import read_params_from_file\n",
    "\n",
    "tmp = read_params_from_file( \"chapter_2_parameters.txt\", row=1 )\n",
    "sim.set_model_params( **tmp )"
   ]
  },
  {
   "cell_type": "markdown",
   "metadata": {},
   "source": [
    "We use the \"estimate\" method of itcsimlib's `ITCFit` object to evaluate the bootstrapped datasets.\n",
    "\n",
    "For the sake of time, we'll estimate the variance in just the $\\Delta C_{p}$ parameter using 20 bootstraps. Note that in reality, we'd want to run at least several hundred, and we'd want to let all of the model parameters float."
   ]
  },
  {
   "cell_type": "code",
   "execution_count": 4,
   "metadata": {},
   "outputs": [],
   "source": [
    "params = fit.estimate( params=['dCp'], bootstraps=20 )"
   ]
  },
  {
   "cell_type": "markdown",
   "metadata": {},
   "source": [
    "The `params` dictionary object contains the average value and standard deviation of the `dCp` ($\\Delta C_{p}$) parameter, which we can either save to a file or print to the console for our information:"
   ]
  },
  {
   "cell_type": "code",
   "execution_count": 5,
   "metadata": {},
   "outputs": [
    {
     "name": "stdout",
     "output_type": "stream",
     "text": [
      "dCp Mean: -0.126 kcal +/- 0.003 kcal\n"
     ]
    }
   ],
   "source": [
    "print(\"dCp Mean: %.3f kcal +/- %.3f kcal\"%params['dCp'])"
   ]
  },
  {
   "cell_type": "markdown",
   "metadata": {},
   "source": [
    "Sometimes it's useful to systematically vary one or more parameters, such as sampling different starting conditions for fitting, or to get a better understanding of how model parameter are correlated.\n",
    "\n",
    "Let's see what happens when we systematically vary the stoichiometry of our model from 0.5 to 2.5 ligands per macromolecule. Itcsimlib makes this easy through the `ITCGrid` object, and to which we pass our fit object that we want to use:"
   ]
  },
  {
   "cell_type": "code",
   "execution_count": 6,
   "metadata": {},
   "outputs": [],
   "source": [
    "grid = ITCGrid( fit, verbose=False )"
   ]
  },
  {
   "cell_type": "markdown",
   "metadata": {},
   "source": [
    "Add an axis for our grid. In this case, our grid is only one dimension (different stoichiometry values, so it only has one axis).\n",
    "\n",
    "Also, let's evaluate our $\\Delta C_{p}$ range over 11 linearly-sampled steps:"
   ]
  },
  {
   "cell_type": "code",
   "execution_count": 7,
   "metadata": {},
   "outputs": [],
   "source": [
    "grid.add_axis( param='n', start=0.5, stop=2.5, steps=11, logspace=False )"
   ]
  },
  {
   "cell_type": "markdown",
   "metadata": {},
   "source": [
    "Now, we optimize our parameters at each grid point.\n",
    "\n",
    "First, let's use our range of stochiometry values simply as starting points (i.e. not held to the grid value). We'll call `grid.optimize()` like this:"
   ]
  },
  {
   "cell_type": "code",
   "execution_count": 8,
   "metadata": {
    "scrolled": true
   },
   "outputs": [],
   "source": [
    "results = grid.optimize( params=['n','dG','dH','dCp'] )"
   ]
  },
  {
   "cell_type": "markdown",
   "metadata": {},
   "source": [
    "We can iterate over the results provided by the grid-sampled starting conditions and print out a nicely formatted list: "
   ]
  },
  {
   "cell_type": "code",
   "execution_count": 9,
   "metadata": {},
   "outputs": [
    {
     "name": "stdout",
     "output_type": "stream",
     "text": [
      "n=0.5, chisq=0.49: n=1.80, dG=-10.89, dH=-11.75, dCp=-0.13\n",
      "n=0.7, chisq=0.49: n=1.80, dG=-10.89, dH=-11.76, dCp=-0.13\n",
      "n=0.9, chisq=0.49: n=1.80, dG=-10.89, dH=-11.75, dCp=-0.13\n",
      "n=1.1, chisq=0.49: n=1.80, dG=-10.89, dH=-11.76, dCp=-0.13\n",
      "n=1.3, chisq=0.49: n=1.80, dG=-10.89, dH=-11.76, dCp=-0.13\n",
      "n=1.5, chisq=0.49: n=1.80, dG=-10.89, dH=-11.76, dCp=-0.13\n",
      "n=1.7, chisq=0.49: n=1.80, dG=-10.89, dH=-11.75, dCp=-0.13\n",
      "n=1.9, chisq=0.49: n=1.80, dG=-10.89, dH=-11.75, dCp=-0.13\n",
      "n=2.1, chisq=0.49: n=1.80, dG=-10.89, dH=-11.76, dCp=-0.13\n",
      "n=2.3, chisq=0.49: n=1.80, dG=-10.89, dH=-11.76, dCp=-0.13\n",
      "n=2.5, chisq=0.49: n=1.80, dG=-10.89, dH=-11.75, dCp=-0.13\n"
     ]
    }
   ],
   "source": [
    "for gridpt,v,x in results:\n",
    "    print(\"n=%.1f, chisq=%.2f: n=%.2f, dG=%.2f, dH=%.2f, dCp=%.2f\"%(gridpt[0], x, v['n'], v['dG'], v['dH'], v['dCp']))"
   ]
  },
  {
   "cell_type": "markdown",
   "metadata": {},
   "source": [
    "You should notice from this grid search that regardless of the starting stoichiometry, fits always converge to around n = 1.8. Now, let's hold the stoichiometry fixed at each pre-set grid point, and only optimize the other parameters.\n",
    "\n",
    "This is done by simply leaving out the `n` parameter from the optimization parameters:"
   ]
  },
  {
   "cell_type": "code",
   "execution_count": 10,
   "metadata": {},
   "outputs": [
    {
     "name": "stdout",
     "output_type": "stream",
     "text": [
      "n=0.5, chisq=253.76: dG=-9.33, dH=-30.80, dCp=-1.75\n",
      "n=0.7, chisq=176.41: dG=-9.16, dH=-27.29, dCp=-1.34\n",
      "n=0.9, chisq=123.47: dG=-9.09, dH=-24.10, dCp=-1.01\n",
      "n=1.1, chisq=86.76: dG=-9.12, dH=-20.74, dCp=-0.70\n",
      "n=1.3, chisq=58.13: dG=-9.40, dH=-16.98, dCp=-0.41\n",
      "n=1.5, chisq=28.86: dG=-10.05, dH=-13.82, dCp=-0.21\n",
      "n=1.7, chisq=4.51: dG=-10.73, dH=-12.23, dCp=-0.14\n",
      "n=1.9, chisq=3.96: dG=-10.86, dH=-11.42, dCp=-0.12\n",
      "n=2.1, chisq=26.44: dG=-10.48, dH=-10.92, dCp=-0.13\n",
      "n=2.3, chisq=56.53: dG=-10.07, dH=-10.53, dCp=-0.14\n",
      "n=2.5, chisq=86.51: dG=-9.71, dH=-10.27, dCp=-0.15\n"
     ]
    }
   ],
   "source": [
    "results = grid.optimize( params=['dG','dH','dCp'] )\n",
    "\n",
    "for gridpt,v,x in results:\n",
    "    print(\"n=%.1f, chisq=%.2f: dG=%.2f, dH=%.2f, dCp=%.2f\"%(gridpt[0], x, v['dG'], v['dH'], v['dCp']))   "
   ]
  },
  {
   "cell_type": "markdown",
   "metadata": {},
   "source": [
    "You will notice that the $\\chi^{2}$ values for stoichiometries far from n=1.8 are high, but become much smaller as the fixed stoichiometry approaches 1.8\n",
    "\n",
    "That concludes this chapter, in chapter 4 we will cover developing and using custom models."
   ]
  },
  {
   "cell_type": "code",
   "execution_count": 11,
   "metadata": {},
   "outputs": [],
   "source": [
    "sim.done()"
   ]
  }
 ],
 "metadata": {
  "kernelspec": {
   "display_name": "Python 3",
   "language": "python",
   "name": "python3"
  },
  "language_info": {
   "codemirror_mode": {
    "name": "ipython",
    "version": 3
   },
   "file_extension": ".py",
   "mimetype": "text/x-python",
   "name": "python",
   "nbconvert_exporter": "python",
   "pygments_lexer": "ipython3",
   "version": "3.7.3"
  }
 },
 "nbformat": 4,
 "nbformat_minor": 2
}
