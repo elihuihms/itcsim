{
 "cells": [
  {
   "cell_type": "code",
   "execution_count": 1,
   "metadata": {
    "tags": [
     "hide_input"
    ]
   },
   "outputs": [],
   "source": [
    "%matplotlib inline\n",
    "\n",
    "import sys, os\n",
    "sys.path.append(os.path.abspath(\"..\")) # add parent directory for import"
   ]
  },
  {
   "cell_type": "markdown",
   "metadata": {},
   "source": [
    "## Chapter 4 : Custom Models\n",
    "\n",
    "In this chapter, we'll cover one of the most important parts of itcsimlib: how to use it to develop and test your own models.\n",
    "\n",
    "All itcsimlib models must be derived from, or \"inherit\", either the ITCModel class directly, or a class that is itself a descendent of an ITCModel.\n",
    "\n",
    "In this example, we will develop a very simple statistical thermodynamics model in which ligands bind to a macromolecule that has five binding sites. The first three binding events will occur with one free energy and enthalpy change, while the binding of the last two ligands to the macromolecule will have a different free energy and enthalpy change. This could mimic either a positively or negatively-cooperative \"switch\" type behavior, depending on whether the free energy change for the last two binding events is more or less favorable than the first three binding events.\n",
    "\n",
    "We will use a built-in statistical thermodynamics Ising lattice class available in itcsimlib as the basis for our model. This Ising model primitive already inherits the ITCModel class and we import it like so:"
   ]
  },
  {
   "cell_type": "code",
   "execution_count": 2,
   "metadata": {},
   "outputs": [],
   "source": [
    "from itcsimlib import *\n",
    "from itcsimlib.model_ising import Ising"
   ]
  },
  {
   "cell_type": "markdown",
   "metadata": {},
   "source": [
    "This Ising class is not actually a valid model...yet. The critical element of any statistical thermodynamics model is the assignment of energies to the different potential states the model adopts. The itcsimlib Ising class has already enumerated all possible configurations for us, we just need to set the energies for each by inspecting what sites are occupied/unoccupied.\n",
    "\n",
    "Our model inherits the Ising class through the following Python convention, and looks at each site in each configuration. If the site has at least one occupied neighbor, it has a different $\\Delta G$ and $\\Delta H$ than if it has no occupied neighors. By convention, an unoccupied site has $\\Delta G = \\Delta H = 0$.\n",
    "\n",
    "Refer to the comments in the model for additional information."
   ]
  },
  {
   "cell_type": "code",
   "execution_count": 3,
   "metadata": {},
   "outputs": [],
   "source": [
    "class MyModel(Ising):\n",
    "    \"\"\"This is a simple statistical thermodynamics model describing binding to a five-site macromolecule. If a site has at least one occupied (bound) neighbor site, it has a different free energy of binding and change in enthalpy.\"\"\"\n",
    "    # itcsimlib automatically converts any ITCModel's class docstring (seen above) into the description for the model. This is not required by itcsimlib, but is a good documentation practice.\n",
    "\n",
    "    def __init__(self):\n",
    "        # We use Python's somewhat awkwardly named \"__init__\" method for initializing the model, and for all itcsimlib models, it must in turn first initialize the parent class it is descended fromt:\n",
    "        Ising.__init__(self,nsites=5,circular=True)\n",
    "\n",
    "        # Here, we tell the Ising class the number of sites in our macromolecule, and whether or not the lattice representation of the macromolecule is circular, and from there the Ising class automatically enumerates all possible configurations.\n",
    "        # In this example, we are not actually using the lattice, but simply the number of ligands already bound to the five-point lattice.\n",
    "\n",
    "        # Next, we need to register the parameters that our model requires. Because we have two distinct binding affinities and enthalpies, our model will have four parameters. If our model needed to be apply across multiple temperatures, we would also need at least one additional parameter describing the change in heat capacity for the system at each binding process.\n",
    "        self.add_parameter( 'dG1', type='dG', description='Delta G upon binding to a site with no occupied neighbors.' )\n",
    "        self.add_parameter( 'dH1', type='dH', description='Delta H upon binding to a site with no occupied neighbors.' )\n",
    "        self.add_parameter( 'dG2', type='dG', description='Delta G upon binding to a site with 1-2 occupied neighbors.' )\n",
    "        self.add_parameter( 'dH2', type='dH', description='Delta H upon binding to a site with 1-2 occupied neighbors.' )\n",
    "\n",
    "        # The ITCModel's add_parameter() method must have at least the parameter's name and type (dG, dH, dCp, etc.) as arguments.\n",
    "        # As with the model's description, an argument's description is only used when you examine the model's info, as demonstrated in tutorial chapter 1. However, describing your model's parameters is quite useful for future reference by you or others.\n",
    "\n",
    "        return\n",
    "    \n",
    "    def set_energies(self,T0,T):\n",
    "        # The Ising parent model expects you to define a set_energies() method, that after execution will populate the model's \"self.gibbs[]\" and \"self.enthalpies[]\" attributes with the correct energies for each configuration.\n",
    "        # The Ising model generates several useful class attributes that our set_energies() method can use. For our five-site lattice, there are 2^5 or 32 potentially energetically-distinct configurations of ligands bound to the lattice. This number of configs is determined by the Ising class during initialization and stored in the \"self.nconfigs\" attribute.\n",
    "        \n",
    "        for i in range(self.nconfigs): # Iterate over all potential Lattice + Ligand(s) configurations.\n",
    "            self.gibbs[i], self.enthalpies[i] = 0.0, 0.0 # Reset configuration dG and dH.\n",
    "            self.config_expressions[i] = 0 # Reset symbolic expression for the configuration\n",
    "            \n",
    "            for j in range(self.nsites): # Iterate over each site in every configuration.\n",
    "            \n",
    "                if not self.get_site_occupancy(i, j):\n",
    "                    pass # If the site's not occupied, by convention we have dG and dH == 0.\n",
    "                \n",
    "                # Are either of the neighboring sites occupied?\n",
    "                elif self.get_site_occupancy(i, j+1) or self.get_site_occupancy(i, j-1):\n",
    "                    self.gibbs[i] += self.params['dG2']\n",
    "                    self.enthalpies[i] += self.params['dH2']\n",
    "                    self.config_expressions[i] += self.parameter_symbols['dG2']\n",
    "                \n",
    "                else: # Neither neighboring site contains a ligand.\n",
    "                    self.gibbs[i] += self.params['dG1']\n",
    "                    self.enthalpies[i] += self.params['dH1']\n",
    "                    self.config_expressions[i] += self.parameter_symbols['dG1']\n",
    "                                                \n",
    "        return"
   ]
  },
  {
   "cell_type": "markdown",
   "metadata": {},
   "source": [
    "That's it! The remaining built-in Ising model class methods will take care of everything else.\n",
    "\n",
    "Assign the simulator to use our custom model:"
   ]
  },
  {
   "cell_type": "code",
   "execution_count": 4,
   "metadata": {},
   "outputs": [],
   "source": [
    "sim = ITCSim(T0=298.15,units=\"kcal\",verbose=True)\n",
    "\n",
    "sim.add_experiment_synthetic(\n",
    "    T=298.15,\n",
    "    V0=1416.6,\n",
    "    injections=[5.0]*50,\n",
    "    Cell={\"Lattice\":1E-6},\n",
    "    Syringe={\"Ligand\":50E-6},\n",
    "    noise=0.0,\n",
    "    title='MyModel_Test')\n",
    "\n",
    "sim.set_model( MyModel() )"
   ]
  },
  {
   "cell_type": "markdown",
   "metadata": {},
   "source": [
    "Print the full information for our model, just for fun:"
   ]
  },
  {
   "cell_type": "code",
   "execution_count": 5,
   "metadata": {},
   "outputs": [
    {
     "name": "stdout",
     "output_type": "stream",
     "text": [
      "\n",
      "Model: __main__.MyModel\n",
      "\n",
      "Description:\n",
      "This is a simple statistical thermodynamics model describing binding to a five-site macromolecule. If a site has at least one occupied (bound) neighbor site, it has a different free energy of binding and change in enthalpy.\n",
      "\n",
      "Components:\n",
      "Index\tName\tDescription\n",
      "1)\tLattice\tA circular lattice with 5 binding sites\n",
      "2)\tLigand\tA lattice-binding ligand\n",
      "\n",
      "Parameters:\n",
      "Index\tParam     Type                Value               Description\n",
      "1)\tdG1       Free energy         0.000 kcal/mol      Delta G upon binding to a site with no occupied neighbors.\n",
      "2)\tdH1       Enthalpy            0.000 kcal/mol      Delta H upon binding to a site with no occupied neighbors.\n",
      "3)\tdG2       Free energy         0.000 kcal/mol      Delta G upon binding to a site with 1-2 occupied neighbors.\n",
      "4)\tdH2       Enthalpy            0.000 kcal/mol      Delta H upon binding to a site with 1-2 occupied neighbors.\n",
      "\n"
     ]
    }
   ],
   "source": [
    "print(sim.model)"
   ]
  },
  {
   "cell_type": "markdown",
   "metadata": {},
   "source": [
    "Set the values for the parameters we defined in the model. Let's first model positive cooperativity by making binding to a site with an already-occupied neighbor possess a greater negative $\\Delta G$:"
   ]
  },
  {
   "cell_type": "code",
   "execution_count": 6,
   "metadata": {},
   "outputs": [
    {
     "data": {
      "image/png": "[encoded data removed]",
      "text/plain": [
       "<Figure size 432x288 with 1 Axes>"
      ]
     },
     "metadata": {
      "needs_background": "light"
     },
     "output_type": "display_data"
    }
   ],
   "source": [
    "sim.set_model_params(dG1=-8, dH1=-10, dG2=-10, dH2=-5)\n",
    "\n",
    "sim.run()\n",
    "\n",
    "sim.make_plots()"
   ]
  },
  {
   "cell_type": "markdown",
   "metadata": {},
   "source": [
    "Similarily, we can easily model negative cooperativity by making binding to a site with one or more unoccupied neighbor sites possess a more unfavorable $\\Delta G$, and compare the titration curves for our model when it's exhibiting positive vs. negative cooperativity:"
   ]
  },
  {
   "cell_type": "code",
   "execution_count": 7,
   "metadata": {},
   "outputs": [
    {
     "data": {
      "image/png": "[encoded data removed]",
      "text/plain": [
       "<Figure size 432x288 with 1 Axes>"
      ]
     },
     "metadata": {
      "needs_background": "light"
     },
     "output_type": "display_data"
    }
   ],
   "source": [
    "sim.set_model_params(dG1=-10, dH1=-10, dG2=-8, dH2=-5)\n",
    "\n",
    "sim.run()\n",
    "\n",
    "sim.make_plots()"
   ]
  },
  {
   "cell_type": "markdown",
   "metadata": {},
   "source": [
    "The primary purpose of itcsimlib was to leverage the power of Ising-based models. To help you, the researcher, develop and understand such models, the Ising model base class provides a couple of potentially very useful tools.\n",
    "\n",
    "One of which is the ability to generate the grand partition function for the model (this is constructed from all those `self.config_expressions` terms entered in the model's `set_energies()` method:"
   ]
  },
  {
   "cell_type": "code",
   "execution_count": 8,
   "metadata": {},
   "outputs": [
    {
     "data": {
      "text/latex": [
       "$\\displaystyle 5 K_{dG1} L + K_{dG2}^{5} L^{5} + 5 K_{dG2}^{4} L^{4} + 5 K_{dG2}^{2} L^{3} \\left(K_{dG1} + K_{dG2}\\right) + 5 L^{2} \\left(K_{dG1}^{2} + K_{dG2}^{2}\\right) + 1$"
      ],
      "text/plain": [
       "5*K_dG1*L + K_dG2**5*L**5 + 5*K_dG2**4*L**4 + 5*K_dG2**2*L**3*(K_dG1 + K_dG2) + 5*L**2*(K_dG1**2 + K_dG2**2) + 1"
      ]
     },
     "execution_count": 8,
     "metadata": {},
     "output_type": "execute_result"
    }
   ],
   "source": [
    "sim.model.get_partition_function()"
   ]
  },
  {
   "cell_type": "markdown",
   "metadata": {},
   "source": [
    "We can also generate potentially illuminating diagrams of the different lattice + ligand configurations at the current values of the model parameters:"
   ]
  },
  {
   "cell_type": "code",
   "execution_count": 9,
   "metadata": {
    "scrolled": true
   },
   "outputs": [
    {
     "data": {
      "image/png": "\n",
      "image/svg+xml": [
       "<?xml version=\"1.0\" encoding=\"utf-8\"?>\n",
       "<svg xmlns=\"http://www.w3.org/2000/svg\" fill=\"none\" version=\"1.1\" viewBox=\"-38.106 -38.106 212.621 707.7\" x=\"-38.106pt\" y=\"-38.106pt\" width=\"212.621pt\" height=\"707.7pt\" stroke-width=\"0.566929\" stroke-miterlimit=\"10.000000\">\n",
       " <g stroke-width=\"1.133858\">\n",
       "  <path d=\"M37.106 -0L37.1059 -0.0647621A37.106 37.106 0 0 0 -37.106 -2.10225e-14A37.106 37.106 0 0 0 37.1059 0.0647621Z\" stroke=\"black\"/>\n",
       " </g>\n",
       " <g stroke-width=\"1.133858\">\n",
       "  <path d=\"M9.63332 -0L9.6333 -0.0168133A9.63332 9.63332 0 0 0 -9.63332 -5.45779e-15A9.63332 9.63332 0 0 0 9.6333 0.0168133Z\" stroke=\"black\"/>\n",
       " </g>\n",
       " <g transform=\"matrix(1.000000,0.000000,0.000000,1.000000,0.000000,-0.000000)\">\n",
       "  <path d=\"M-2.10212 3.21018M2.09215 0.0221308C2.09215 -0.77488 2.04234 -1.57189 1.69365 -2.30913C1.23537 -3.26554 0.418431 -3.42494 4.44089e-16 -3.42494C-0.597758 -3.42494 -1.32503 -3.16591 -1.7335 -2.23939C-2.0523 -1.55197 -2.10212 -0.77488 -2.10212 0.0221308C-2.10212 0.769329 -2.06227 1.66597 -1.6538 2.42313C-1.2254 3.2301 -0.498132 3.42935 -0.00996264 3.42935C0.52802 3.42935 1.28518 3.22014 1.72354 2.27369C2.04234 1.58627 2.09215 0.809179 2.09215 0.0221308ZM2.09215 0.0221308M-0.00996264 3.21018C-0.398506 3.21018 -0.986301 2.96111 -1.16563 2.0047C-1.27522 1.40694 -1.27522 0.490375 -1.27522 -0.0974209C-1.27522 -0.73503 -1.27522 -1.39256 -1.19552 -1.93055C-1.00623 -3.1161 -0.259029 -3.20576 -0.00996264 -3.20576C0.318804 -3.20576 0.976339 -3.02644 1.16563 -2.04014C1.26526 -1.48223 1.26526 -0.725067 1.26526 -0.0974209C1.26526 0.649777 1.26526 1.32724 1.15567 1.96485C1.00623 2.9113 0.438356 3.21018 -0.00996264 3.21018ZM-0.00996264 3.21018\" fill=\"black\"/>\n",
       " </g>\n",
       " <g transform=\"matrix(1.000000,0.000000,0.000000,1.000000,38.551181,38.551181)\">\n",
       "  <path d=\"M0.119552 6.42037M2.85928 4.07915C3.15816 3.70057 3.53674 3.2124 3.77584 2.95337C4.08468 2.59471 4.49315 2.44527 4.96139 2.43531L4.96139 2.12647C4.70237 2.14639 4.40349 2.15636 4.14446 2.15636C3.84558 2.15636 3.31756 2.13643 3.18804 2.12647L3.18804 2.43531C3.39726 2.45524 3.47696 2.58475 3.47696 2.74415C3.47696 2.90355 3.37733 3.03307 3.32752 3.09284L2.70984 3.86993L1.93275 2.8637C1.84309 2.76408 1.84309 2.74415 1.84309 2.68438C1.84309 2.53494 1.99253 2.44527 2.19178 2.43531L2.19178 2.12647C1.93275 2.13643 1.27522 2.15636 1.11582 2.15636C0.9066 2.15636 0.438356 2.14639 0.169365 2.12647L0.169365 2.43531C0.86675 2.43531 0.876712 2.44527 1.34496 3.04303L2.33126 4.32821L1.39477 5.51377C0.916563 6.0916 0.328767 6.11152 0.119552 6.11152L0.119552 6.42037C0.37858 6.40044 0.687422 6.39048 0.946451 6.39048C1.23537 6.39048 1.6538 6.4104 1.8929 6.42037L1.8929 6.11152C1.67372 6.08164 1.60399 5.95212 1.60399 5.80268C1.60399 5.5835 1.8929 5.25474 2.50062 4.53743L3.25778 5.53369C3.33748 5.64328 3.467 5.80268 3.467 5.86246C3.467 5.95212 3.37733 6.10156 3.10834 6.11152L3.10834 6.42037C3.40722 6.4104 3.96513 6.39048 4.18431 6.39048C4.4533 6.39048 4.84184 6.40044 5.14072 6.42037L5.14072 6.11152C4.60274 6.11152 4.42341 6.0916 4.19427 5.80268ZM4.19427 5.80268M6.13699 6.42037M8.17933 0.0442767C8.17933 -0.194827 8.17933 -0.214752 7.95019 -0.214752C7.3325 0.422857 6.45579 0.422857 6.13699 0.422857L6.13699 0.731699C6.33624 0.731699 6.92403 0.731699 7.44209 0.47267L7.44209 5.63332C7.44209 5.99197 7.4122 6.11152 6.51557 6.11152L6.19676 6.11152L6.19676 6.42037C6.54545 6.39048 7.4122 6.39048 7.81071 6.39048C8.20922 6.39048 9.07597 6.39048 9.42466 6.42037L9.42466 6.11152L9.10585 6.11152C8.20922 6.11152 8.17933 6.00194 8.17933 5.63332ZM8.17933 5.63332\" fill=\"black\"/>\n",
       " </g>\n",
       " <g stroke-width=\"1.133858\">\n",
       "  <path d=\"M34.3587 -0L34.3587 -0.0191795A10.9891 10.9891 0 0 0 12.3806 -6.2259e-15A10.9891 10.9891 0 0 0 34.3587 0.0191795Z\" stroke=\"black\"/>\n",
       " </g>\n",
       " <g stroke-width=\"1.133858\">\n",
       "  <path d=\"M18.2107 -22.2259L18.2107 -22.245A10.9891 10.9891 0 0 0 -3.76745 -22.2259A10.9891 10.9891 0 0 0 18.2107 -22.2067Z\" stroke=\"black\"/>\n",
       " </g>\n",
       " <g stroke-width=\"1.133858\">\n",
       "  <path d=\"M-7.91738 -13.7363L-7.91739 -13.7555A10.9891 10.9891 0 0 0 -29.8955 -13.7363A10.9891 10.9891 0 0 0 -7.91739 -13.7172Z\" stroke=\"black\"/>\n",
       " </g>\n",
       " <g stroke-width=\"1.133858\">\n",
       "  <path d=\"M-7.91738 13.7363L-7.91739 13.7172A10.9891 10.9891 0 0 0 -29.8955 13.7363A10.9891 10.9891 0 0 0 -7.91739 13.7555Z\" stroke=\"black\"/>\n",
       " </g>\n",
       " <g stroke-width=\"1.133858\">\n",
       "  <path d=\"M18.2107 22.2259L18.2107 22.2067A10.9891 10.9891 0 0 0 -3.76745 22.2259A10.9891 10.9891 0 0 0 18.2107 22.245Z\" stroke=\"black\"/>\n",
       " </g>\n",
       " <g stroke-width=\"1.133858\">\n",
       "  <path d=\"M37.106 124.724L37.1059 124.66A37.106 37.106 0 0 0 -37.106 124.724A37.106 37.106 0 0 0 37.1059 124.789Z\" stroke=\"black\"/>\n",
       " </g>\n",
       " <g stroke-width=\"1.133858\">\n",
       "  <path d=\"M9.63332 124.724L9.6333 124.708A9.63332 9.63332 0 0 0 -9.63332 124.724A9.63332 9.63332 0 0 0 9.6333 124.741Z\" stroke=\"black\"/>\n",
       " </g>\n",
       " <g transform=\"matrix(1.000000,0.000000,0.000000,1.000000,0.000000,124.724409)\">\n",
       "  <path d=\"M-6.53218 3.21018M-3.89208 1.34716L-3.89208 0.769329L-6.53218 0.769329L-6.53218 1.34716ZM-6.53218 1.34716M-2.43753 3.21018M-0.39519 -3.16591C-0.39519 -3.40502 -0.39519 -3.42494 -0.624331 -3.42494C-1.24201 -2.78733 -2.11873 -2.78733 -2.43753 -2.78733L-2.43753 -2.47849C-2.23828 -2.47849 -1.65048 -2.47849 -1.13243 -2.73752L-1.13243 2.42313C-1.13243 2.78178 -1.16231 2.90133 -2.05895 2.90133L-2.37776 2.90133L-2.37776 3.21018C-2.02906 3.18029 -1.16231 3.18029 -0.763807 3.18029C-0.365302 3.18029 0.501448 3.18029 0.85014 3.21018L0.85014 2.90133L0.531336 2.90133C-0.365302 2.90133 -0.39519 2.79174 -0.39519 2.42313ZM-0.39519 2.42313M2.04566 3.21018M6.23993 0.0221308C6.23993 -0.77488 6.19012 -1.57189 5.84142 -2.30913C5.38314 -3.26554 4.5662 -3.42494 4.14777 -3.42494C3.55002 -3.42494 2.82274 -3.16591 2.41427 -2.23939C2.09547 -1.55197 2.04566 -0.77488 2.04566 0.0221308C2.04566 0.769329 2.08551 1.66597 2.49398 2.42313C2.92237 3.2301 3.64964 3.42935 4.13781 3.42935C4.67579 3.42935 5.43295 3.22014 5.87131 2.27369C6.19012 1.58627 6.23993 0.809179 6.23993 0.0221308ZM6.23993 0.0221308M4.13781 3.21018C3.74927 3.21018 3.16147 2.96111 2.98215 2.0047C2.87256 1.40694 2.87256 0.490375 2.87256 -0.0974209C2.87256 -0.73503 2.87256 -1.39256 2.95226 -1.93055C3.14155 -3.1161 3.88875 -3.20576 4.13781 -3.20576C4.46658 -3.20576 5.12411 -3.02644 5.3134 -2.04014C5.41303 -1.48223 5.41303 -0.725067 5.41303 -0.0974209C5.41303 0.649777 5.41303 1.32724 5.30344 1.96485C5.154 2.9113 4.58613 3.21018 4.13781 3.21018ZM4.13781 3.21018\" fill=\"black\"/>\n",
       " </g>\n",
       " <g transform=\"matrix(1.000000,0.000000,0.000000,1.000000,38.551181,163.275591)\">\n",
       "  <path d=\"M0.119552 6.42037M2.85928 4.07915C3.15816 3.70057 3.53674 3.2124 3.77584 2.95337C4.08468 2.59471 4.49315 2.44527 4.96139 2.43531L4.96139 2.12647C4.70237 2.14639 4.40349 2.15636 4.14446 2.15636C3.84558 2.15636 3.31756 2.13643 3.18804 2.12647L3.18804 2.43531C3.39726 2.45524 3.47696 2.58475 3.47696 2.74415C3.47696 2.90355 3.37733 3.03307 3.32752 3.09284L2.70984 3.86993L1.93275 2.8637C1.84309 2.76408 1.84309 2.74415 1.84309 2.68438C1.84309 2.53494 1.99253 2.44527 2.19178 2.43531L2.19178 2.12647C1.93275 2.13643 1.27522 2.15636 1.11582 2.15636C0.9066 2.15636 0.438356 2.14639 0.169365 2.12647L0.169365 2.43531C0.86675 2.43531 0.876712 2.44527 1.34496 3.04303L2.33126 4.32821L1.39477 5.51377C0.916563 6.0916 0.328767 6.11152 0.119552 6.11152L0.119552 6.42037C0.37858 6.40044 0.687422 6.39048 0.946451 6.39048C1.23537 6.39048 1.6538 6.4104 1.8929 6.42037L1.8929 6.11152C1.67372 6.08164 1.60399 5.95212 1.60399 5.80268C1.60399 5.5835 1.8929 5.25474 2.50062 4.53743L3.25778 5.53369C3.33748 5.64328 3.467 5.80268 3.467 5.86246C3.467 5.95212 3.37733 6.10156 3.10834 6.11152L3.10834 6.42037C3.40722 6.4104 3.96513 6.39048 4.18431 6.39048C4.4533 6.39048 4.84184 6.40044 5.14072 6.42037L5.14072 6.11152C4.60274 6.11152 4.42341 6.0916 4.19427 5.80268ZM4.19427 5.80268M5.74844 6.42037M9.72354 4.41788C9.72354 3.23232 8.9066 2.23606 7.83064 2.23606C7.35243 2.23606 6.92403 2.39546 6.56538 2.74415L6.56538 0.801437C6.76463 0.861213 7.0934 0.930952 7.4122 0.930952C8.63761 0.930952 9.33499 0.0243514 9.33499 -0.105163C9.33499 -0.164939 9.30511 -0.214752 9.23537 -0.214752C9.2254 -0.214752 9.20548 -0.214752 9.15567 -0.184864C8.95641 -0.0952003 8.46824 0.104053 7.80075 0.104053C7.40224 0.104053 6.94396 0.0343141 6.47572 -0.174901C6.39601 -0.204789 6.37609 -0.204789 6.35616 -0.204789C6.25654 -0.204789 6.25654 -0.125088 6.25654 0.0343141L6.25654 2.98326C6.25654 3.16258 6.25654 3.24228 6.39601 3.24228C6.46575 3.24228 6.48568 3.2124 6.52553 3.15262C6.63512 2.99322 7.00374 2.45524 7.81071 2.45524C8.32877 2.45524 8.57783 2.91352 8.65753 3.09284C8.81694 3.46146 8.83686 3.85001 8.83686 4.34814C8.83686 4.69683 8.83686 5.29459 8.59776 5.71302C8.35866 6.10156 7.99004 6.36059 7.53176 6.36059C6.80448 6.36059 6.23661 5.83257 6.06725 5.24477C6.09714 5.25474 6.12702 5.2647 6.23661 5.2647C6.56538 5.2647 6.73474 5.01563 6.73474 4.77653C6.73474 4.53743 6.56538 4.28836 6.23661 4.28836C6.09714 4.28836 5.74844 4.3581 5.74844 4.81638C5.74844 5.67317 6.43587 6.63954 7.55168 6.63954C8.70735 6.63954 9.72354 5.68313 9.72354 4.41788ZM9.72354 4.41788\" fill=\"black\"/>\n",
       " </g>\n",
       " <g stroke-width=\"1.133858\">\n",
       "  <path d=\"M34.3587 124.724L34.3587 124.705A10.9891 10.9891 0 0 0 12.3806 124.724A10.9891 10.9891 0 0 0 34.3587 124.744Z\" stroke=\"black\"/>\n",
       " </g>\n",
       " <g stroke-width=\"1.133858\">\n",
       "  <path d=\"M18.2107 102.499L18.2107 102.479A10.9891 10.9891 0 0 0 -3.76745 102.499A10.9891 10.9891 0 0 0 18.2107 102.518Z\" stroke=\"black\"/>\n",
       " </g>\n",
       " <g stroke-width=\"1.133858\">\n",
       "  <path d=\"M-7.91738 110.988L-7.91739 110.969A10.9891 10.9891 0 0 0 -29.8955 110.988A10.9891 10.9891 0 0 0 -7.91739 111.007Z\" stroke=\"black\"/>\n",
       " </g>\n",
       " <g stroke-width=\"1.133858\">\n",
       "  <path d=\"M-7.91738 138.461L-7.91739 138.442A10.9891 10.9891 0 0 0 -29.8955 138.461A10.9891 10.9891 0 0 0 -7.91739 138.48Z\" stroke=\"black\"/>\n",
       " </g>\n",
       " <path d=\"M15.4634 146.95L15.4634 146.936A8.2418 8.2418 0 0 0 -1.02018 146.95A8.2418 8.2418 0 0 0 15.4634 146.965Z\" fill=\"#00f\"/>\n",
       " <g stroke-width=\"1.133858\">\n",
       "  <path d=\"M18.2107 146.95L18.2107 146.931A10.9891 10.9891 0 0 0 -3.76745 146.95A10.9891 10.9891 0 0 0 18.2107 146.969Z\" stroke=\"black\"/>\n",
       " </g>\n",
       " <g stroke-width=\"1.133858\">\n",
       "  <path d=\"M37.106 249.449L37.1059 249.384A37.106 37.106 0 0 0 -37.106 249.449A37.106 37.106 0 0 0 37.1059 249.514Z\" stroke=\"black\"/>\n",
       " </g>\n",
       " <g stroke-width=\"1.133858\">\n",
       "  <path d=\"M9.63332 249.449L9.6333 249.432A9.63332 9.63332 0 0 0 -9.63332 249.449A9.63332 9.63332 0 0 0 9.6333 249.466Z\" stroke=\"black\"/>\n",
       " </g>\n",
       " <g transform=\"matrix(1.000000,0.000000,0.000000,1.000000,0.000000,249.448819)\">\n",
       "  <path d=\"M-6.53218 3.21018M-3.89208 1.34716L-3.89208 0.769329L-6.53218 0.769329L-6.53218 1.34716ZM-6.53218 1.34716M-2.82607 3.21018M-2.05895 2.44305L-1.00291 1.4169C0.551261 0.042056 1.14902 -0.495927 1.14902 -1.49219C1.14902 -2.62793 0.252382 -3.42494 -0.96306 -3.42494C-2.08884 -3.42494 -2.82607 -2.50838 -2.82607 -1.6217C-2.82607 -1.0638 -2.32794 -1.0638 -2.29805 -1.0638C-2.12869 -1.0638 -1.78 -1.18335 -1.78 -1.59182C-1.78 -1.85085 -1.95932 -2.10987 -2.30802 -2.10987C-2.38772 -2.10987 -2.40764 -2.10987 -2.43753 -2.09991C-2.20839 -2.74748 -1.67041 -3.1161 -1.09257 -3.1161C-0.185974 -3.1161 0.242419 -2.30913 0.242419 -1.49219C0.242419 -0.695179 -0.255713 0.0918692 -0.803658 0.709553L-2.71648 2.84156C-2.82607 2.95115 -2.82607 2.97107 -2.82607 3.21018L0.870066 3.21018L1.14902 1.47668L0.899953 1.47668C0.85014 1.77556 0.780402 2.21391 0.680775 2.36335C0.611037 2.44305 -0.0464974 2.44305 -0.265675 2.44305ZM-0.265675 2.44305M2.04566 3.21018M6.23993 0.0221308C6.23993 -0.77488 6.19012 -1.57189 5.84142 -2.30913C5.38314 -3.26554 4.5662 -3.42494 4.14777 -3.42494C3.55002 -3.42494 2.82274 -3.16591 2.41427 -2.23939C2.09547 -1.55197 2.04566 -0.77488 2.04566 0.0221308C2.04566 0.769329 2.08551 1.66597 2.49398 2.42313C2.92237 3.2301 3.64964 3.42935 4.13781 3.42935C4.67579 3.42935 5.43295 3.22014 5.87131 2.27369C6.19012 1.58627 6.23993 0.809179 6.23993 0.0221308ZM6.23993 0.0221308M4.13781 3.21018C3.74927 3.21018 3.16147 2.96111 2.98215 2.0047C2.87256 1.40694 2.87256 0.490375 2.87256 -0.0974209C2.87256 -0.73503 2.87256 -1.39256 2.95226 -1.93055C3.14155 -3.1161 3.88875 -3.20576 4.13781 -3.20576C4.46658 -3.20576 5.12411 -3.02644 5.3134 -2.04014C5.41303 -1.48223 5.41303 -0.725067 5.41303 -0.0974209C5.41303 0.649777 5.41303 1.32724 5.30344 1.96485C5.154 2.9113 4.58613 3.21018 4.13781 3.21018ZM4.13781 3.21018\" fill=\"black\"/>\n",
       " </g>\n",
       " <g transform=\"matrix(1.000000,0.000000,0.000000,1.000000,38.551181,288.000000)\">\n",
       "  <path d=\"M0.119552 6.42037M2.85928 4.07915C3.15816 3.70057 3.53674 3.2124 3.77584 2.95337C4.08468 2.59471 4.49315 2.44527 4.96139 2.43531L4.96139 2.12647C4.70237 2.14639 4.40349 2.15636 4.14446 2.15636C3.84558 2.15636 3.31756 2.13643 3.18804 2.12647L3.18804 2.43531C3.39726 2.45524 3.47696 2.58475 3.47696 2.74415C3.47696 2.90355 3.37733 3.03307 3.32752 3.09284L2.70984 3.86993L1.93275 2.8637C1.84309 2.76408 1.84309 2.74415 1.84309 2.68438C1.84309 2.53494 1.99253 2.44527 2.19178 2.43531L2.19178 2.12647C1.93275 2.13643 1.27522 2.15636 1.11582 2.15636C0.9066 2.15636 0.438356 2.14639 0.169365 2.12647L0.169365 2.43531C0.86675 2.43531 0.876712 2.44527 1.34496 3.04303L2.33126 4.32821L1.39477 5.51377C0.916563 6.0916 0.328767 6.11152 0.119552 6.11152L0.119552 6.42037C0.37858 6.40044 0.687422 6.39048 0.946451 6.39048C1.23537 6.39048 1.6538 6.4104 1.8929 6.42037L1.8929 6.11152C1.67372 6.08164 1.60399 5.95212 1.60399 5.80268C1.60399 5.5835 1.8929 5.25474 2.50062 4.53743L3.25778 5.53369C3.33748 5.64328 3.467 5.80268 3.467 5.86246C3.467 5.95212 3.37733 6.10156 3.10834 6.11152L3.10834 6.42037C3.40722 6.4104 3.96513 6.39048 4.18431 6.39048C4.4533 6.39048 4.84184 6.40044 5.14072 6.42037L5.14072 6.11152C4.60274 6.11152 4.42341 6.0916 4.19427 5.80268ZM4.19427 5.80268M5.74844 6.42037M9.72354 4.41788C9.72354 3.23232 8.9066 2.23606 7.83064 2.23606C7.35243 2.23606 6.92403 2.39546 6.56538 2.74415L6.56538 0.801437C6.76463 0.861213 7.0934 0.930952 7.4122 0.930952C8.63761 0.930952 9.33499 0.0243514 9.33499 -0.105163C9.33499 -0.164939 9.30511 -0.214752 9.23537 -0.214752C9.2254 -0.214752 9.20548 -0.214752 9.15567 -0.184864C8.95641 -0.0952003 8.46824 0.104053 7.80075 0.104053C7.40224 0.104053 6.94396 0.0343141 6.47572 -0.174901C6.39601 -0.204789 6.37609 -0.204789 6.35616 -0.204789C6.25654 -0.204789 6.25654 -0.125088 6.25654 0.0343141L6.25654 2.98326C6.25654 3.16258 6.25654 3.24228 6.39601 3.24228C6.46575 3.24228 6.48568 3.2124 6.52553 3.15262C6.63512 2.99322 7.00374 2.45524 7.81071 2.45524C8.32877 2.45524 8.57783 2.91352 8.65753 3.09284C8.81694 3.46146 8.83686 3.85001 8.83686 4.34814C8.83686 4.69683 8.83686 5.29459 8.59776 5.71302C8.35866 6.10156 7.99004 6.36059 7.53176 6.36059C6.80448 6.36059 6.23661 5.83257 6.06725 5.24477C6.09714 5.25474 6.12702 5.2647 6.23661 5.2647C6.56538 5.2647 6.73474 5.01563 6.73474 4.77653C6.73474 4.53743 6.56538 4.28836 6.23661 4.28836C6.09714 4.28836 5.74844 4.3581 5.74844 4.81638C5.74844 5.67317 6.43587 6.63954 7.55168 6.63954C8.70735 6.63954 9.72354 5.68313 9.72354 4.41788ZM9.72354 4.41788\" fill=\"black\"/>\n",
       " </g>\n",
       " <g stroke-width=\"1.133858\">\n",
       "  <path d=\"M34.3587 249.449L34.3587 249.43A10.9891 10.9891 0 0 0 12.3806 249.449A10.9891 10.9891 0 0 0 34.3587 249.468Z\" stroke=\"black\"/>\n",
       " </g>\n",
       " <g stroke-width=\"1.133858\">\n",
       "  <path d=\"M18.2107 227.223L18.2107 227.204A10.9891 10.9891 0 0 0 -3.76745 227.223A10.9891 10.9891 0 0 0 18.2107 227.242Z\" stroke=\"black\"/>\n",
       " </g>\n",
       " <path d=\"M-10.6646 235.712L-10.6647 235.698A8.2418 8.2418 0 0 0 -27.1483 235.712A8.2418 8.2418 0 0 0 -10.6647 235.727Z\" fill=\"#00f\"/>\n",
       " <g stroke-width=\"1.133858\">\n",
       "  <path d=\"M-7.91738 235.712L-7.91739 235.693A10.9891 10.9891 0 0 0 -29.8955 235.712A10.9891 10.9891 0 0 0 -7.91739 235.732Z\" stroke=\"black\"/>\n",
       " </g>\n",
       " <g stroke-width=\"1.133858\">\n",
       "  <path d=\"M-7.91738 263.185L-7.91739 263.166A10.9891 10.9891 0 0 0 -29.8955 263.185A10.9891 10.9891 0 0 0 -7.91739 263.204Z\" stroke=\"black\"/>\n",
       " </g>\n",
       " <path d=\"M15.4634 271.675L15.4634 271.66A8.2418 8.2418 0 0 0 -1.02018 271.675A8.2418 8.2418 0 0 0 15.4634 271.689Z\" fill=\"#00f\"/>\n",
       " <g stroke-width=\"1.133858\">\n",
       "  <path d=\"M18.2107 271.675L18.2107 271.656A10.9891 10.9891 0 0 0 -3.76745 271.675A10.9891 10.9891 0 0 0 18.2107 271.694Z\" stroke=\"black\"/>\n",
       " </g>\n",
       " <g stroke-width=\"1.133858\">\n",
       "  <path d=\"M161.83 249.449L161.83 249.384A37.106 37.106 0 0 0 87.6184 249.449A37.106 37.106 0 0 0 161.83 249.514Z\" stroke=\"black\"/>\n",
       " </g>\n",
       " <g stroke-width=\"1.133858\">\n",
       "  <path d=\"M134.358 249.449L134.358 249.432A9.63332 9.63332 0 0 0 115.091 249.449A9.63332 9.63332 0 0 0 134.358 249.466Z\" stroke=\"black\"/>\n",
       " </g>\n",
       " <g transform=\"matrix(1.000000,0.000000,0.000000,1.000000,124.724409,249.448819)\">\n",
       "  <path d=\"M-6.53218 3.21018M-3.89208 1.34716L-3.89208 0.769329L-6.53218 0.769329L-6.53218 1.34716ZM-6.53218 1.34716M-2.43753 3.21018M-0.39519 -3.16591C-0.39519 -3.40502 -0.39519 -3.42494 -0.624331 -3.42494C-1.24201 -2.78733 -2.11873 -2.78733 -2.43753 -2.78733L-2.43753 -2.47849C-2.23828 -2.47849 -1.65048 -2.47849 -1.13243 -2.73752L-1.13243 2.42313C-1.13243 2.78178 -1.16231 2.90133 -2.05895 2.90133L-2.37776 2.90133L-2.37776 3.21018C-2.02906 3.18029 -1.16231 3.18029 -0.763807 3.18029C-0.365302 3.18029 0.501448 3.18029 0.85014 3.21018L0.85014 2.90133L0.531336 2.90133C-0.365302 2.90133 -0.39519 2.79174 -0.39519 2.42313ZM-0.39519 2.42313M2.07554 3.21018M2.97218 -0.0575704L2.97218 -0.296674C2.97218 -2.81722 4.20755 -3.17588 4.71564 -3.17588C4.95475 -3.17588 5.37318 -3.1161 5.59236 -2.77737C5.44292 -2.77737 5.04441 -2.77737 5.04441 -2.32905C5.04441 -2.02021 5.28352 -1.87077 5.50269 -1.87077C5.6621 -1.87077 5.96097 -1.96043 5.96097 -2.34898C5.96097 -2.94674 5.52262 -3.42494 4.69572 -3.42494C3.4205 -3.42494 2.07554 -2.13976 2.07554 0.0619813C2.07554 2.72201 3.23121 3.42935 4.15774 3.42935C5.26359 3.42935 6.21004 2.49287 6.21004 1.1778C6.21004 -0.0874583 5.32337 -1.04387 4.21751 -1.04387C3.54005 -1.04387 3.17144 -0.535777 2.97218 -0.0575704ZM2.97218 -0.0575704M4.15774 3.1504C3.53009 3.1504 3.23121 2.55264 3.17144 2.4032C2.99211 1.93496 2.99211 1.13795 2.99211 0.958619C2.99211 0.181533 3.31091 -0.814731 4.20755 -0.814731C4.36695 -0.814731 4.82523 -0.814731 5.13408 -0.197047C5.3134 0.17157 5.3134 0.679665 5.3134 1.16783C5.3134 1.64604 5.3134 2.14417 5.14404 2.50283C4.84516 3.10059 4.38688 3.1504 4.15774 3.1504ZM4.15774 3.1504\" fill=\"black\"/>\n",
       " </g>\n",
       " <g transform=\"matrix(1.000000,0.000000,0.000000,1.000000,163.275591,288.000000)\">\n",
       "  <path d=\"M0.119552 6.42037M2.85928 4.07915C3.15816 3.70057 3.53674 3.2124 3.77584 2.95337C4.08468 2.59471 4.49315 2.44527 4.96139 2.43531L4.96139 2.12647C4.70237 2.14639 4.40349 2.15636 4.14446 2.15636C3.84558 2.15636 3.31756 2.13643 3.18804 2.12647L3.18804 2.43531C3.39726 2.45524 3.47696 2.58475 3.47696 2.74415C3.47696 2.90355 3.37733 3.03307 3.32752 3.09284L2.70984 3.86993L1.93275 2.8637C1.84309 2.76408 1.84309 2.74415 1.84309 2.68438C1.84309 2.53494 1.99253 2.44527 2.19178 2.43531L2.19178 2.12647C1.93275 2.13643 1.27522 2.15636 1.11582 2.15636C0.9066 2.15636 0.438356 2.14639 0.169365 2.12647L0.169365 2.43531C0.86675 2.43531 0.876712 2.44527 1.34496 3.04303L2.33126 4.32821L1.39477 5.51377C0.916563 6.0916 0.328767 6.11152 0.119552 6.11152L0.119552 6.42037C0.37858 6.40044 0.687422 6.39048 0.946451 6.39048C1.23537 6.39048 1.6538 6.4104 1.8929 6.42037L1.8929 6.11152C1.67372 6.08164 1.60399 5.95212 1.60399 5.80268C1.60399 5.5835 1.8929 5.25474 2.50062 4.53743L3.25778 5.53369C3.33748 5.64328 3.467 5.80268 3.467 5.86246C3.467 5.95212 3.37733 6.10156 3.10834 6.11152L3.10834 6.42037C3.40722 6.4104 3.96513 6.39048 4.18431 6.39048C4.4533 6.39048 4.84184 6.40044 5.14072 6.42037L5.14072 6.11152C4.60274 6.11152 4.42341 6.0916 4.19427 5.80268ZM4.19427 5.80268M5.74844 6.42037M9.72354 4.41788C9.72354 3.23232 8.9066 2.23606 7.83064 2.23606C7.35243 2.23606 6.92403 2.39546 6.56538 2.74415L6.56538 0.801437C6.76463 0.861213 7.0934 0.930952 7.4122 0.930952C8.63761 0.930952 9.33499 0.0243514 9.33499 -0.105163C9.33499 -0.164939 9.30511 -0.214752 9.23537 -0.214752C9.2254 -0.214752 9.20548 -0.214752 9.15567 -0.184864C8.95641 -0.0952003 8.46824 0.104053 7.80075 0.104053C7.40224 0.104053 6.94396 0.0343141 6.47572 -0.174901C6.39601 -0.204789 6.37609 -0.204789 6.35616 -0.204789C6.25654 -0.204789 6.25654 -0.125088 6.25654 0.0343141L6.25654 2.98326C6.25654 3.16258 6.25654 3.24228 6.39601 3.24228C6.46575 3.24228 6.48568 3.2124 6.52553 3.15262C6.63512 2.99322 7.00374 2.45524 7.81071 2.45524C8.32877 2.45524 8.57783 2.91352 8.65753 3.09284C8.81694 3.46146 8.83686 3.85001 8.83686 4.34814C8.83686 4.69683 8.83686 5.29459 8.59776 5.71302C8.35866 6.10156 7.99004 6.36059 7.53176 6.36059C6.80448 6.36059 6.23661 5.83257 6.06725 5.24477C6.09714 5.25474 6.12702 5.2647 6.23661 5.2647C6.56538 5.2647 6.73474 5.01563 6.73474 4.77653C6.73474 4.53743 6.56538 4.28836 6.23661 4.28836C6.09714 4.28836 5.74844 4.3581 5.74844 4.81638C5.74844 5.67317 6.43587 6.63954 7.55168 6.63954C8.70735 6.63954 9.72354 5.68313 9.72354 4.41788ZM9.72354 4.41788\" fill=\"black\"/>\n",
       " </g>\n",
       " <g stroke-width=\"1.133858\">\n",
       "  <path d=\"M159.083 249.449L159.083 249.43A10.9891 10.9891 0 0 0 137.105 249.449A10.9891 10.9891 0 0 0 159.083 249.468Z\" stroke=\"black\"/>\n",
       " </g>\n",
       " <g stroke-width=\"1.133858\">\n",
       "  <path d=\"M142.935 227.223L142.935 227.204A10.9891 10.9891 0 0 0 120.957 227.223A10.9891 10.9891 0 0 0 142.935 227.242Z\" stroke=\"black\"/>\n",
       " </g>\n",
       " <g stroke-width=\"1.133858\">\n",
       "  <path d=\"M116.807 235.712L116.807 235.693A10.9891 10.9891 0 0 0 94.8289 235.712A10.9891 10.9891 0 0 0 116.807 235.732Z\" stroke=\"black\"/>\n",
       " </g>\n",
       " <path d=\"M114.06 263.185L114.06 263.171A8.2418 8.2418 0 0 0 97.5762 263.185A8.2418 8.2418 0 0 0 114.06 263.2Z\" fill=\"#00f\"/>\n",
       " <g stroke-width=\"1.133858\">\n",
       "  <path d=\"M116.807 263.185L116.807 263.166A10.9891 10.9891 0 0 0 94.8289 263.185A10.9891 10.9891 0 0 0 116.807 263.204Z\" stroke=\"black\"/>\n",
       " </g>\n",
       " <path d=\"M140.188 271.675L140.188 271.66A8.2418 8.2418 0 0 0 123.704 271.675A8.2418 8.2418 0 0 0 140.188 271.689Z\" fill=\"#00f\"/>\n",
       " <g stroke-width=\"1.133858\">\n",
       "  <path d=\"M142.935 271.675L142.935 271.656A10.9891 10.9891 0 0 0 120.957 271.675A10.9891 10.9891 0 0 0 142.935 271.694Z\" stroke=\"black\"/>\n",
       " </g>\n",
       " <g stroke-width=\"1.133858\">\n",
       "  <path d=\"M37.106 374.173L37.1059 374.108A37.106 37.106 0 0 0 -37.106 374.173A37.106 37.106 0 0 0 37.1059 374.238Z\" stroke=\"black\"/>\n",
       " </g>\n",
       " <g stroke-width=\"1.133858\">\n",
       "  <path d=\"M9.63332 374.173L9.6333 374.156A9.63332 9.63332 0 0 0 -9.63332 374.173A9.63332 9.63332 0 0 0 9.6333 374.19Z\" stroke=\"black\"/>\n",
       " </g>\n",
       " <g transform=\"matrix(1.000000,0.000000,0.000000,1.000000,0.000000,374.173228)\">\n",
       "  <path d=\"M-6.53218 3.21018M-3.89208 1.34716L-3.89208 0.769329L-6.53218 0.769329L-6.53218 1.34716ZM-6.53218 1.34716M-2.82607 3.21018M-2.05895 2.44305L-1.00291 1.4169C0.551261 0.042056 1.14902 -0.495927 1.14902 -1.49219C1.14902 -2.62793 0.252382 -3.42494 -0.96306 -3.42494C-2.08884 -3.42494 -2.82607 -2.50838 -2.82607 -1.6217C-2.82607 -1.0638 -2.32794 -1.0638 -2.29805 -1.0638C-2.12869 -1.0638 -1.78 -1.18335 -1.78 -1.59182C-1.78 -1.85085 -1.95932 -2.10987 -2.30802 -2.10987C-2.38772 -2.10987 -2.40764 -2.10987 -2.43753 -2.09991C-2.20839 -2.74748 -1.67041 -3.1161 -1.09257 -3.1161C-0.185974 -3.1161 0.242419 -2.30913 0.242419 -1.49219C0.242419 -0.695179 -0.255713 0.0918692 -0.803658 0.709553L-2.71648 2.84156C-2.82607 2.95115 -2.82607 2.97107 -2.82607 3.21018L0.870066 3.21018L1.14902 1.47668L0.899953 1.47668C0.85014 1.77556 0.780402 2.21391 0.680775 2.36335C0.611037 2.44305 -0.0464974 2.44305 -0.265675 2.44305ZM-0.265675 2.44305M2.07554 3.21018M2.97218 -0.0575704L2.97218 -0.296674C2.97218 -2.81722 4.20755 -3.17588 4.71564 -3.17588C4.95475 -3.17588 5.37318 -3.1161 5.59236 -2.77737C5.44292 -2.77737 5.04441 -2.77737 5.04441 -2.32905C5.04441 -2.02021 5.28352 -1.87077 5.50269 -1.87077C5.6621 -1.87077 5.96097 -1.96043 5.96097 -2.34898C5.96097 -2.94674 5.52262 -3.42494 4.69572 -3.42494C3.4205 -3.42494 2.07554 -2.13976 2.07554 0.0619813C2.07554 2.72201 3.23121 3.42935 4.15774 3.42935C5.26359 3.42935 6.21004 2.49287 6.21004 1.1778C6.21004 -0.0874583 5.32337 -1.04387 4.21751 -1.04387C3.54005 -1.04387 3.17144 -0.535777 2.97218 -0.0575704ZM2.97218 -0.0575704M4.15774 3.1504C3.53009 3.1504 3.23121 2.55264 3.17144 2.4032C2.99211 1.93496 2.99211 1.13795 2.99211 0.958619C2.99211 0.181533 3.31091 -0.814731 4.20755 -0.814731C4.36695 -0.814731 4.82523 -0.814731 5.13408 -0.197047C5.3134 0.17157 5.3134 0.679665 5.3134 1.16783C5.3134 1.64604 5.3134 2.14417 5.14404 2.50283C4.84516 3.10059 4.38688 3.1504 4.15774 3.1504ZM4.15774 3.1504\" fill=\"black\"/>\n",
       " </g>\n",
       " <g transform=\"matrix(1.000000,0.000000,0.000000,1.000000,38.551181,412.724409)\">\n",
       "  <path d=\"M0.119552 6.42037M2.85928 4.07915C3.15816 3.70057 3.53674 3.2124 3.77584 2.95337C4.08468 2.59471 4.49315 2.44527 4.96139 2.43531L4.96139 2.12647C4.70237 2.14639 4.40349 2.15636 4.14446 2.15636C3.84558 2.15636 3.31756 2.13643 3.18804 2.12647L3.18804 2.43531C3.39726 2.45524 3.47696 2.58475 3.47696 2.74415C3.47696 2.90355 3.37733 3.03307 3.32752 3.09284L2.70984 3.86993L1.93275 2.8637C1.84309 2.76408 1.84309 2.74415 1.84309 2.68438C1.84309 2.53494 1.99253 2.44527 2.19178 2.43531L2.19178 2.12647C1.93275 2.13643 1.27522 2.15636 1.11582 2.15636C0.9066 2.15636 0.438356 2.14639 0.169365 2.12647L0.169365 2.43531C0.86675 2.43531 0.876712 2.44527 1.34496 3.04303L2.33126 4.32821L1.39477 5.51377C0.916563 6.0916 0.328767 6.11152 0.119552 6.11152L0.119552 6.42037C0.37858 6.40044 0.687422 6.39048 0.946451 6.39048C1.23537 6.39048 1.6538 6.4104 1.8929 6.42037L1.8929 6.11152C1.67372 6.08164 1.60399 5.95212 1.60399 5.80268C1.60399 5.5835 1.8929 5.25474 2.50062 4.53743L3.25778 5.53369C3.33748 5.64328 3.467 5.80268 3.467 5.86246C3.467 5.95212 3.37733 6.10156 3.10834 6.11152L3.10834 6.42037C3.40722 6.4104 3.96513 6.39048 4.18431 6.39048C4.4533 6.39048 4.84184 6.40044 5.14072 6.42037L5.14072 6.11152C4.60274 6.11152 4.42341 6.0916 4.19427 5.80268ZM4.19427 5.80268M5.74844 6.42037M9.72354 4.41788C9.72354 3.23232 8.9066 2.23606 7.83064 2.23606C7.35243 2.23606 6.92403 2.39546 6.56538 2.74415L6.56538 0.801437C6.76463 0.861213 7.0934 0.930952 7.4122 0.930952C8.63761 0.930952 9.33499 0.0243514 9.33499 -0.105163C9.33499 -0.164939 9.30511 -0.214752 9.23537 -0.214752C9.2254 -0.214752 9.20548 -0.214752 9.15567 -0.184864C8.95641 -0.0952003 8.46824 0.104053 7.80075 0.104053C7.40224 0.104053 6.94396 0.0343141 6.47572 -0.174901C6.39601 -0.204789 6.37609 -0.204789 6.35616 -0.204789C6.25654 -0.204789 6.25654 -0.125088 6.25654 0.0343141L6.25654 2.98326C6.25654 3.16258 6.25654 3.24228 6.39601 3.24228C6.46575 3.24228 6.48568 3.2124 6.52553 3.15262C6.63512 2.99322 7.00374 2.45524 7.81071 2.45524C8.32877 2.45524 8.57783 2.91352 8.65753 3.09284C8.81694 3.46146 8.83686 3.85001 8.83686 4.34814C8.83686 4.69683 8.83686 5.29459 8.59776 5.71302C8.35866 6.10156 7.99004 6.36059 7.53176 6.36059C6.80448 6.36059 6.23661 5.83257 6.06725 5.24477C6.09714 5.25474 6.12702 5.2647 6.23661 5.2647C6.56538 5.2647 6.73474 5.01563 6.73474 4.77653C6.73474 4.53743 6.56538 4.28836 6.23661 4.28836C6.09714 4.28836 5.74844 4.3581 5.74844 4.81638C5.74844 5.67317 6.43587 6.63954 7.55168 6.63954C8.70735 6.63954 9.72354 5.68313 9.72354 4.41788ZM9.72354 4.41788\" fill=\"black\"/>\n",
       " </g>\n",
       " <g stroke-width=\"1.133858\">\n",
       "  <path d=\"M34.3587 374.173L34.3587 374.154A10.9891 10.9891 0 0 0 12.3806 374.173A10.9891 10.9891 0 0 0 34.3587 374.192Z\" stroke=\"black\"/>\n",
       " </g>\n",
       " <path d=\"M15.4634 351.947L15.4634 351.933A8.2418 8.2418 0 0 0 -1.02018 351.947A8.2418 8.2418 0 0 0 15.4634 351.962Z\" fill=\"#00f\"/>\n",
       " <g stroke-width=\"1.133858\">\n",
       "  <path d=\"M18.2107 351.947L18.2107 351.928A10.9891 10.9891 0 0 0 -3.76745 351.947A10.9891 10.9891 0 0 0 18.2107 351.967Z\" stroke=\"black\"/>\n",
       " </g>\n",
       " <g stroke-width=\"1.133858\">\n",
       "  <path d=\"M-7.91738 360.437L-7.91739 360.418A10.9891 10.9891 0 0 0 -29.8955 360.437A10.9891 10.9891 0 0 0 -7.91739 360.456Z\" stroke=\"black\"/>\n",
       " </g>\n",
       " <path d=\"M-10.6646 387.91L-10.6647 387.895A8.2418 8.2418 0 0 0 -27.1483 387.91A8.2418 8.2418 0 0 0 -10.6647 387.924Z\" fill=\"#00f\"/>\n",
       " <g stroke-width=\"1.133858\">\n",
       "  <path d=\"M-7.91738 387.91L-7.91739 387.89A10.9891 10.9891 0 0 0 -29.8955 387.91A10.9891 10.9891 0 0 0 -7.91739 387.929Z\" stroke=\"black\"/>\n",
       " </g>\n",
       " <path d=\"M15.4634 396.399L15.4634 396.385A8.2418 8.2418 0 0 0 -1.02018 396.399A8.2418 8.2418 0 0 0 15.4634 396.413Z\" fill=\"#00f\"/>\n",
       " <g stroke-width=\"1.133858\">\n",
       "  <path d=\"M18.2107 396.399L18.2107 396.38A10.9891 10.9891 0 0 0 -3.76745 396.399A10.9891 10.9891 0 0 0 18.2107 396.418Z\" stroke=\"black\"/>\n",
       " </g>\n",
       " <g stroke-width=\"1.133858\">\n",
       "  <path d=\"M161.83 374.173L161.83 374.108A37.106 37.106 0 0 0 87.6184 374.173A37.106 37.106 0 0 0 161.83 374.238Z\" stroke=\"black\"/>\n",
       " </g>\n",
       " <g stroke-width=\"1.133858\">\n",
       "  <path d=\"M134.358 374.173L134.358 374.156A9.63332 9.63332 0 0 0 115.091 374.173A9.63332 9.63332 0 0 0 134.358 374.19Z\" stroke=\"black\"/>\n",
       " </g>\n",
       " <g transform=\"matrix(1.000000,0.000000,0.000000,1.000000,124.724409,374.173228)\">\n",
       "  <path d=\"M-6.53218 3.21018M-3.89208 1.34716L-3.89208 0.769329L-6.53218 0.769329L-6.53218 1.34716ZM-6.53218 1.34716M-2.82607 3.21018M-2.05895 2.44305L-1.00291 1.4169C0.551261 0.042056 1.14902 -0.495927 1.14902 -1.49219C1.14902 -2.62793 0.252382 -3.42494 -0.96306 -3.42494C-2.08884 -3.42494 -2.82607 -2.50838 -2.82607 -1.6217C-2.82607 -1.0638 -2.32794 -1.0638 -2.29805 -1.0638C-2.12869 -1.0638 -1.78 -1.18335 -1.78 -1.59182C-1.78 -1.85085 -1.95932 -2.10987 -2.30802 -2.10987C-2.38772 -2.10987 -2.40764 -2.10987 -2.43753 -2.09991C-2.20839 -2.74748 -1.67041 -3.1161 -1.09257 -3.1161C-0.185974 -3.1161 0.242419 -2.30913 0.242419 -1.49219C0.242419 -0.695179 -0.255713 0.0918692 -0.803658 0.709553L-2.71648 2.84156C-2.82607 2.95115 -2.82607 2.97107 -2.82607 3.21018L0.870066 3.21018L1.14902 1.47668L0.899953 1.47668C0.85014 1.77556 0.780402 2.21391 0.680775 2.36335C0.611037 2.44305 -0.0464974 2.44305 -0.265675 2.44305ZM-0.265675 2.44305M1.93607 3.21018M4.58613 1.56634L4.58613 2.43309C4.58613 2.79174 4.5662 2.90133 3.82897 2.90133L3.61975 2.90133L3.61975 3.21018C4.02822 3.18029 4.54628 3.18029 4.96471 3.18029C5.38314 3.18029 5.91116 3.18029 6.31963 3.21018L6.31963 2.90133L6.11041 2.90133C5.37318 2.90133 5.35325 2.79174 5.35325 2.43309L5.35325 1.56634L6.34952 1.56634L6.34952 1.2575L5.35325 1.2575L5.35325 -3.2755C5.35325 -3.47476 5.35325 -3.53453 5.19385 -3.53453C5.10419 -3.53453 5.0743 -3.53453 4.9946 -3.41498L1.93607 1.2575L1.93607 1.56634ZM1.93607 1.56634M4.64591 1.2575L2.21502 1.2575L4.64591 -2.45857ZM4.64591 -2.45857\" fill=\"black\"/>\n",
       " </g>\n",
       " <g transform=\"matrix(1.000000,0.000000,0.000000,1.000000,163.275591,412.724409)\">\n",
       "  <path d=\"M0.119552 6.42037M2.85928 4.07915C3.15816 3.70057 3.53674 3.2124 3.77584 2.95337C4.08468 2.59471 4.49315 2.44527 4.96139 2.43531L4.96139 2.12647C4.70237 2.14639 4.40349 2.15636 4.14446 2.15636C3.84558 2.15636 3.31756 2.13643 3.18804 2.12647L3.18804 2.43531C3.39726 2.45524 3.47696 2.58475 3.47696 2.74415C3.47696 2.90355 3.37733 3.03307 3.32752 3.09284L2.70984 3.86993L1.93275 2.8637C1.84309 2.76408 1.84309 2.74415 1.84309 2.68438C1.84309 2.53494 1.99253 2.44527 2.19178 2.43531L2.19178 2.12647C1.93275 2.13643 1.27522 2.15636 1.11582 2.15636C0.9066 2.15636 0.438356 2.14639 0.169365 2.12647L0.169365 2.43531C0.86675 2.43531 0.876712 2.44527 1.34496 3.04303L2.33126 4.32821L1.39477 5.51377C0.916563 6.0916 0.328767 6.11152 0.119552 6.11152L0.119552 6.42037C0.37858 6.40044 0.687422 6.39048 0.946451 6.39048C1.23537 6.39048 1.6538 6.4104 1.8929 6.42037L1.8929 6.11152C1.67372 6.08164 1.60399 5.95212 1.60399 5.80268C1.60399 5.5835 1.8929 5.25474 2.50062 4.53743L3.25778 5.53369C3.33748 5.64328 3.467 5.80268 3.467 5.86246C3.467 5.95212 3.37733 6.10156 3.10834 6.11152L3.10834 6.42037C3.40722 6.4104 3.96513 6.39048 4.18431 6.39048C4.4533 6.39048 4.84184 6.40044 5.14072 6.42037L5.14072 6.11152C4.60274 6.11152 4.42341 6.0916 4.19427 5.80268ZM4.19427 5.80268M5.74844 6.42037M9.72354 4.41788C9.72354 3.23232 8.9066 2.23606 7.83064 2.23606C7.35243 2.23606 6.92403 2.39546 6.56538 2.74415L6.56538 0.801437C6.76463 0.861213 7.0934 0.930952 7.4122 0.930952C8.63761 0.930952 9.33499 0.0243514 9.33499 -0.105163C9.33499 -0.164939 9.30511 -0.214752 9.23537 -0.214752C9.2254 -0.214752 9.20548 -0.214752 9.15567 -0.184864C8.95641 -0.0952003 8.46824 0.104053 7.80075 0.104053C7.40224 0.104053 6.94396 0.0343141 6.47572 -0.174901C6.39601 -0.204789 6.37609 -0.204789 6.35616 -0.204789C6.25654 -0.204789 6.25654 -0.125088 6.25654 0.0343141L6.25654 2.98326C6.25654 3.16258 6.25654 3.24228 6.39601 3.24228C6.46575 3.24228 6.48568 3.2124 6.52553 3.15262C6.63512 2.99322 7.00374 2.45524 7.81071 2.45524C8.32877 2.45524 8.57783 2.91352 8.65753 3.09284C8.81694 3.46146 8.83686 3.85001 8.83686 4.34814C8.83686 4.69683 8.83686 5.29459 8.59776 5.71302C8.35866 6.10156 7.99004 6.36059 7.53176 6.36059C6.80448 6.36059 6.23661 5.83257 6.06725 5.24477C6.09714 5.25474 6.12702 5.2647 6.23661 5.2647C6.56538 5.2647 6.73474 5.01563 6.73474 4.77653C6.73474 4.53743 6.56538 4.28836 6.23661 4.28836C6.09714 4.28836 5.74844 4.3581 5.74844 4.81638C5.74844 5.67317 6.43587 6.63954 7.55168 6.63954C8.70735 6.63954 9.72354 5.68313 9.72354 4.41788ZM9.72354 4.41788\" fill=\"black\"/>\n",
       " </g>\n",
       " <g stroke-width=\"1.133858\">\n",
       "  <path d=\"M159.083 374.173L159.083 374.154A10.9891 10.9891 0 0 0 137.105 374.173A10.9891 10.9891 0 0 0 159.083 374.192Z\" stroke=\"black\"/>\n",
       " </g>\n",
       " <g stroke-width=\"1.133858\">\n",
       "  <path d=\"M142.935 351.947L142.935 351.928A10.9891 10.9891 0 0 0 120.957 351.947A10.9891 10.9891 0 0 0 142.935 351.967Z\" stroke=\"black\"/>\n",
       " </g>\n",
       " <path d=\"M114.06 360.437L114.06 360.423A8.2418 8.2418 0 0 0 97.5762 360.437A8.2418 8.2418 0 0 0 114.06 360.451Z\" fill=\"#00f\"/>\n",
       " <g stroke-width=\"1.133858\">\n",
       "  <path d=\"M116.807 360.437L116.807 360.418A10.9891 10.9891 0 0 0 94.8289 360.437A10.9891 10.9891 0 0 0 116.807 360.456Z\" stroke=\"black\"/>\n",
       " </g>\n",
       " <path d=\"M114.06 387.91L114.06 387.895A8.2418 8.2418 0 0 0 97.5762 387.91A8.2418 8.2418 0 0 0 114.06 387.924Z\" fill=\"#00f\"/>\n",
       " <g stroke-width=\"1.133858\">\n",
       "  <path d=\"M116.807 387.91L116.807 387.89A10.9891 10.9891 0 0 0 94.8289 387.91A10.9891 10.9891 0 0 0 116.807 387.929Z\" stroke=\"black\"/>\n",
       " </g>\n",
       " <path d=\"M140.188 396.399L140.188 396.385A8.2418 8.2418 0 0 0 123.704 396.399A8.2418 8.2418 0 0 0 140.188 396.413Z\" fill=\"#00f\"/>\n",
       " <g stroke-width=\"1.133858\">\n",
       "  <path d=\"M142.935 396.399L142.935 396.38A10.9891 10.9891 0 0 0 120.957 396.399A10.9891 10.9891 0 0 0 142.935 396.418Z\" stroke=\"black\"/>\n",
       " </g>\n",
       " <g stroke-width=\"1.133858\">\n",
       "  <path d=\"M37.106 498.898L37.1059 498.833A37.106 37.106 0 0 0 -37.106 498.898A37.106 37.106 0 0 0 37.1059 498.962Z\" stroke=\"black\"/>\n",
       " </g>\n",
       " <g stroke-width=\"1.133858\">\n",
       "  <path d=\"M9.63332 498.898L9.6333 498.881A9.63332 9.63332 0 0 0 -9.63332 498.898A9.63332 9.63332 0 0 0 9.6333 498.914Z\" stroke=\"black\"/>\n",
       " </g>\n",
       " <g transform=\"matrix(1.000000,0.000000,0.000000,1.000000,0.000000,498.897638)\">\n",
       "  <path d=\"M-6.53218 3.21018M-3.89208 1.34716L-3.89208 0.769329L-6.53218 0.769329L-6.53218 1.34716ZM-6.53218 1.34716M-2.90578 3.21018M-0.43504 -0.296674C0.381896 -0.565665 0.959729 -1.26305 0.959729 -2.0501C0.959729 -2.86703 0.0830169 -3.42494 -0.873397 -3.42494C-1.87962 -3.42494 -2.63678 -2.82718 -2.63678 -2.07002C-2.63678 -1.74126 -2.41761 -1.55197 -2.12869 -1.55197C-1.81985 -1.55197 -1.62059 -1.77114 -1.62059 -2.06006C-1.62059 -2.55819 -2.08884 -2.55819 -2.23828 -2.55819C-1.92944 -3.04636 -1.2719 -3.17588 -0.913247 -3.17588C-0.504779 -3.17588 0.0431664 -2.9567 0.0431664 -2.06006C0.0431664 -1.94051 0.0232411 -1.36268 -0.235788 -0.92432C-0.534667 -0.446113 -0.873397 -0.416225 -1.12246 -0.406263C-1.20216 -0.3963 -1.44127 -0.376375 -1.51101 -0.376375C-1.59071 -0.366412 -1.66045 -0.35645 -1.66045 -0.256823C-1.66045 -0.147234 -1.59071 -0.147234 -1.42134 -0.147234L-0.982986 -0.147234C-0.166049 -0.147234 0.202569 0.530225 0.202569 1.50656C0.202569 2.86148 -0.484854 3.1504 -0.92321 3.1504C-1.3516 3.1504 -2.0988 2.98103 -2.44749 2.39324C-2.0988 2.44305 -1.78996 2.22387 -1.78996 1.84529C-1.78996 1.48664 -2.05895 1.28739 -2.34787 1.28739C-2.58697 1.28739 -2.90578 1.42686 -2.90578 1.86522C-2.90578 2.77182 -1.97925 3.42935 -0.893322 3.42935C0.32212 3.42935 1.22872 2.52275 1.22872 1.50656C1.22872 0.689628 0.601074 -0.0874583 -0.43504 -0.296674ZM-0.43504 -0.296674M2.15525 3.21018M2.92237 2.44305L3.97841 1.4169C5.53258 0.042056 6.13034 -0.495927 6.13034 -1.49219C6.13034 -2.62793 5.2337 -3.42494 4.01826 -3.42494C2.89248 -3.42494 2.15525 -2.50838 2.15525 -1.6217C2.15525 -1.0638 2.65338 -1.0638 2.68327 -1.0638C2.85263 -1.0638 3.20132 -1.18335 3.20132 -1.59182C3.20132 -1.85085 3.022 -2.10987 2.6733 -2.10987C2.5936 -2.10987 2.57368 -2.10987 2.54379 -2.09991C2.77293 -2.74748 3.31091 -3.1161 3.88875 -3.1161C4.79535 -3.1161 5.22374 -2.30913 5.22374 -1.49219C5.22374 -0.695179 4.72561 0.0918692 4.17766 0.709553L2.26484 2.84156C2.15525 2.95115 2.15525 2.97107 2.15525 3.21018L5.85139 3.21018L6.13034 1.47668L5.88127 1.47668C5.83146 1.77556 5.76172 2.21391 5.6621 2.36335C5.59236 2.44305 4.93482 2.44305 4.71564 2.44305ZM4.71564 2.44305\" fill=\"black\"/>\n",
       " </g>\n",
       " <g transform=\"matrix(1.000000,0.000000,0.000000,1.000000,38.551181,537.448819)\">\n",
       "  <path d=\"M0.119552 6.42037M2.85928 4.07915C3.15816 3.70057 3.53674 3.2124 3.77584 2.95337C4.08468 2.59471 4.49315 2.44527 4.96139 2.43531L4.96139 2.12647C4.70237 2.14639 4.40349 2.15636 4.14446 2.15636C3.84558 2.15636 3.31756 2.13643 3.18804 2.12647L3.18804 2.43531C3.39726 2.45524 3.47696 2.58475 3.47696 2.74415C3.47696 2.90355 3.37733 3.03307 3.32752 3.09284L2.70984 3.86993L1.93275 2.8637C1.84309 2.76408 1.84309 2.74415 1.84309 2.68438C1.84309 2.53494 1.99253 2.44527 2.19178 2.43531L2.19178 2.12647C1.93275 2.13643 1.27522 2.15636 1.11582 2.15636C0.9066 2.15636 0.438356 2.14639 0.169365 2.12647L0.169365 2.43531C0.86675 2.43531 0.876712 2.44527 1.34496 3.04303L2.33126 4.32821L1.39477 5.51377C0.916563 6.0916 0.328767 6.11152 0.119552 6.11152L0.119552 6.42037C0.37858 6.40044 0.687422 6.39048 0.946451 6.39048C1.23537 6.39048 1.6538 6.4104 1.8929 6.42037L1.8929 6.11152C1.67372 6.08164 1.60399 5.95212 1.60399 5.80268C1.60399 5.5835 1.8929 5.25474 2.50062 4.53743L3.25778 5.53369C3.33748 5.64328 3.467 5.80268 3.467 5.86246C3.467 5.95212 3.37733 6.10156 3.10834 6.11152L3.10834 6.42037C3.40722 6.4104 3.96513 6.39048 4.18431 6.39048C4.4533 6.39048 4.84184 6.40044 5.14072 6.42037L5.14072 6.11152C4.60274 6.11152 4.42341 6.0916 4.19427 5.80268ZM4.19427 5.80268M5.74844 6.42037M9.72354 4.41788C9.72354 3.23232 8.9066 2.23606 7.83064 2.23606C7.35243 2.23606 6.92403 2.39546 6.56538 2.74415L6.56538 0.801437C6.76463 0.861213 7.0934 0.930952 7.4122 0.930952C8.63761 0.930952 9.33499 0.0243514 9.33499 -0.105163C9.33499 -0.164939 9.30511 -0.214752 9.23537 -0.214752C9.2254 -0.214752 9.20548 -0.214752 9.15567 -0.184864C8.95641 -0.0952003 8.46824 0.104053 7.80075 0.104053C7.40224 0.104053 6.94396 0.0343141 6.47572 -0.174901C6.39601 -0.204789 6.37609 -0.204789 6.35616 -0.204789C6.25654 -0.204789 6.25654 -0.125088 6.25654 0.0343141L6.25654 2.98326C6.25654 3.16258 6.25654 3.24228 6.39601 3.24228C6.46575 3.24228 6.48568 3.2124 6.52553 3.15262C6.63512 2.99322 7.00374 2.45524 7.81071 2.45524C8.32877 2.45524 8.57783 2.91352 8.65753 3.09284C8.81694 3.46146 8.83686 3.85001 8.83686 4.34814C8.83686 4.69683 8.83686 5.29459 8.59776 5.71302C8.35866 6.10156 7.99004 6.36059 7.53176 6.36059C6.80448 6.36059 6.23661 5.83257 6.06725 5.24477C6.09714 5.25474 6.12702 5.2647 6.23661 5.2647C6.56538 5.2647 6.73474 5.01563 6.73474 4.77653C6.73474 4.53743 6.56538 4.28836 6.23661 4.28836C6.09714 4.28836 5.74844 4.3581 5.74844 4.81638C5.74844 5.67317 6.43587 6.63954 7.55168 6.63954C8.70735 6.63954 9.72354 5.68313 9.72354 4.41788ZM9.72354 4.41788\" fill=\"black\"/>\n",
       " </g>\n",
       " <g stroke-width=\"1.133858\">\n",
       "  <path d=\"M34.3587 498.898L34.3587 498.878A10.9891 10.9891 0 0 0 12.3806 498.898A10.9891 10.9891 0 0 0 34.3587 498.917Z\" stroke=\"black\"/>\n",
       " </g>\n",
       " <path d=\"M15.4634 476.672L15.4634 476.657A8.2418 8.2418 0 0 0 -1.02018 476.672A8.2418 8.2418 0 0 0 15.4634 476.686Z\" fill=\"#00f\"/>\n",
       " <g stroke-width=\"1.133858\">\n",
       "  <path d=\"M18.2107 476.672L18.2107 476.653A10.9891 10.9891 0 0 0 -3.76745 476.672A10.9891 10.9891 0 0 0 18.2107 476.691Z\" stroke=\"black\"/>\n",
       " </g>\n",
       " <path d=\"M-10.6646 485.161L-10.6647 485.147A8.2418 8.2418 0 0 0 -27.1483 485.161A8.2418 8.2418 0 0 0 -10.6647 485.176Z\" fill=\"#00f\"/>\n",
       " <g stroke-width=\"1.133858\">\n",
       "  <path d=\"M-7.91738 485.161L-7.91739 485.142A10.9891 10.9891 0 0 0 -29.8955 485.161A10.9891 10.9891 0 0 0 -7.91739 485.18Z\" stroke=\"black\"/>\n",
       " </g>\n",
       " <path d=\"M-10.6646 512.634L-10.6647 512.62A8.2418 8.2418 0 0 0 -27.1483 512.634A8.2418 8.2418 0 0 0 -10.6647 512.648Z\" fill=\"#00f\"/>\n",
       " <g stroke-width=\"1.133858\">\n",
       "  <path d=\"M-7.91738 512.634L-7.91739 512.615A10.9891 10.9891 0 0 0 -29.8955 512.634A10.9891 10.9891 0 0 0 -7.91739 512.653Z\" stroke=\"black\"/>\n",
       " </g>\n",
       " <path d=\"M15.4634 521.124L15.4634 521.109A8.2418 8.2418 0 0 0 -1.02018 521.124A8.2418 8.2418 0 0 0 15.4634 521.138Z\" fill=\"#00f\"/>\n",
       " <g stroke-width=\"1.133858\">\n",
       "  <path d=\"M18.2107 521.124L18.2107 521.104A10.9891 10.9891 0 0 0 -3.76745 521.124A10.9891 10.9891 0 0 0 18.2107 521.143Z\" stroke=\"black\"/>\n",
       " </g>\n",
       " <g stroke-width=\"1.133858\">\n",
       "  <path d=\"M37.106 623.622L37.1059 623.557A37.106 37.106 0 0 0 -37.106 623.622A37.106 37.106 0 0 0 37.1059 623.687Z\" stroke=\"black\"/>\n",
       " </g>\n",
       " <g stroke-width=\"1.133858\">\n",
       "  <path d=\"M9.63332 623.622L9.6333 623.605A9.63332 9.63332 0 0 0 -9.63332 623.622A9.63332 9.63332 0 0 0 9.6333 623.639Z\" stroke=\"black\"/>\n",
       " </g>\n",
       " <g transform=\"matrix(1.000000,0.000000,0.000000,1.000000,0.000000,623.622047)\">\n",
       "  <path d=\"M-6.53218 3.21018M-3.89208 1.34716L-3.89208 0.769329L-6.53218 0.769329L-6.53218 1.34716ZM-6.53218 1.34716M-3.04525 3.21018M-0.39519 1.56634L-0.39519 2.43309C-0.39519 2.79174 -0.415115 2.90133 -1.15235 2.90133L-1.36157 2.90133L-1.36157 3.21018C-0.953098 3.18029 -0.43504 3.18029 -0.0166095 3.18029C0.401821 3.18029 0.929841 3.18029 1.33831 3.21018L1.33831 2.90133L1.12909 2.90133C0.391859 2.90133 0.371933 2.79174 0.371933 2.43309L0.371933 1.56634L1.3682 1.56634L1.3682 1.2575L0.371933 1.2575L0.371933 -3.2755C0.371933 -3.47476 0.371933 -3.53453 0.212531 -3.53453C0.122867 -3.53453 0.0929796 -3.53453 0.0132785 -3.41498L-3.04525 1.2575L-3.04525 1.56634ZM-3.04525 1.56634M-0.335414 1.2575L-2.7663 1.2575L-0.335414 -2.45857ZM-0.335414 -2.45857M2.04566 3.21018M6.23993 0.0221308C6.23993 -0.77488 6.19012 -1.57189 5.84142 -2.30913C5.38314 -3.26554 4.5662 -3.42494 4.14777 -3.42494C3.55002 -3.42494 2.82274 -3.16591 2.41427 -2.23939C2.09547 -1.55197 2.04566 -0.77488 2.04566 0.0221308C2.04566 0.769329 2.08551 1.66597 2.49398 2.42313C2.92237 3.2301 3.64964 3.42935 4.13781 3.42935C4.67579 3.42935 5.43295 3.22014 5.87131 2.27369C6.19012 1.58627 6.23993 0.809179 6.23993 0.0221308ZM6.23993 0.0221308M4.13781 3.21018C3.74927 3.21018 3.16147 2.96111 2.98215 2.0047C2.87256 1.40694 2.87256 0.490375 2.87256 -0.0974209C2.87256 -0.73503 2.87256 -1.39256 2.95226 -1.93055C3.14155 -3.1161 3.88875 -3.20576 4.13781 -3.20576C4.46658 -3.20576 5.12411 -3.02644 5.3134 -2.04014C5.41303 -1.48223 5.41303 -0.725067 5.41303 -0.0974209C5.41303 0.649777 5.41303 1.32724 5.30344 1.96485C5.154 2.9113 4.58613 3.21018 4.13781 3.21018ZM4.13781 3.21018\" fill=\"black\"/>\n",
       " </g>\n",
       " <g transform=\"matrix(1.000000,0.000000,0.000000,1.000000,38.551181,662.173228)\">\n",
       "  <path d=\"M0.119552 6.42037M2.85928 4.07915C3.15816 3.70057 3.53674 3.2124 3.77584 2.95337C4.08468 2.59471 4.49315 2.44527 4.96139 2.43531L4.96139 2.12647C4.70237 2.14639 4.40349 2.15636 4.14446 2.15636C3.84558 2.15636 3.31756 2.13643 3.18804 2.12647L3.18804 2.43531C3.39726 2.45524 3.47696 2.58475 3.47696 2.74415C3.47696 2.90355 3.37733 3.03307 3.32752 3.09284L2.70984 3.86993L1.93275 2.8637C1.84309 2.76408 1.84309 2.74415 1.84309 2.68438C1.84309 2.53494 1.99253 2.44527 2.19178 2.43531L2.19178 2.12647C1.93275 2.13643 1.27522 2.15636 1.11582 2.15636C0.9066 2.15636 0.438356 2.14639 0.169365 2.12647L0.169365 2.43531C0.86675 2.43531 0.876712 2.44527 1.34496 3.04303L2.33126 4.32821L1.39477 5.51377C0.916563 6.0916 0.328767 6.11152 0.119552 6.11152L0.119552 6.42037C0.37858 6.40044 0.687422 6.39048 0.946451 6.39048C1.23537 6.39048 1.6538 6.4104 1.8929 6.42037L1.8929 6.11152C1.67372 6.08164 1.60399 5.95212 1.60399 5.80268C1.60399 5.5835 1.8929 5.25474 2.50062 4.53743L3.25778 5.53369C3.33748 5.64328 3.467 5.80268 3.467 5.86246C3.467 5.95212 3.37733 6.10156 3.10834 6.11152L3.10834 6.42037C3.40722 6.4104 3.96513 6.39048 4.18431 6.39048C4.4533 6.39048 4.84184 6.40044 5.14072 6.42037L5.14072 6.11152C4.60274 6.11152 4.42341 6.0916 4.19427 5.80268ZM4.19427 5.80268M6.13699 6.42037M8.17933 0.0442767C8.17933 -0.194827 8.17933 -0.214752 7.95019 -0.214752C7.3325 0.422857 6.45579 0.422857 6.13699 0.422857L6.13699 0.731699C6.33624 0.731699 6.92403 0.731699 7.44209 0.47267L7.44209 5.63332C7.44209 5.99197 7.4122 6.11152 6.51557 6.11152L6.19676 6.11152L6.19676 6.42037C6.54545 6.39048 7.4122 6.39048 7.81071 6.39048C8.20922 6.39048 9.07597 6.39048 9.42466 6.42037L9.42466 6.11152L9.10585 6.11152C8.20922 6.11152 8.17933 6.00194 8.17933 5.63332ZM8.17933 5.63332\" fill=\"black\"/>\n",
       " </g>\n",
       " <path d=\"M31.6115 623.622L31.6114 623.608A8.2418 8.2418 0 0 0 15.1279 623.622A8.2418 8.2418 0 0 0 31.6114 623.636Z\" fill=\"#00f\"/>\n",
       " <g stroke-width=\"1.133858\">\n",
       "  <path d=\"M34.3587 623.622L34.3587 623.603A10.9891 10.9891 0 0 0 12.3806 623.622A10.9891 10.9891 0 0 0 34.3587 623.641Z\" stroke=\"black\"/>\n",
       " </g>\n",
       " <path d=\"M15.4634 601.396L15.4634 601.382A8.2418 8.2418 0 0 0 -1.02018 601.396A8.2418 8.2418 0 0 0 15.4634 601.411Z\" fill=\"#00f\"/>\n",
       " <g stroke-width=\"1.133858\">\n",
       "  <path d=\"M18.2107 601.396L18.2107 601.377A10.9891 10.9891 0 0 0 -3.76745 601.396A10.9891 10.9891 0 0 0 18.2107 601.415Z\" stroke=\"black\"/>\n",
       " </g>\n",
       " <path d=\"M-10.6646 609.886L-10.6647 609.871A8.2418 8.2418 0 0 0 -27.1483 609.886A8.2418 8.2418 0 0 0 -10.6647 609.9Z\" fill=\"#00f\"/>\n",
       " <g stroke-width=\"1.133858\">\n",
       "  <path d=\"M-7.91738 609.886L-7.91739 609.867A10.9891 10.9891 0 0 0 -29.8955 609.886A10.9891 10.9891 0 0 0 -7.91739 609.905Z\" stroke=\"black\"/>\n",
       " </g>\n",
       " <path d=\"M-10.6646 637.358L-10.6647 637.344A8.2418 8.2418 0 0 0 -27.1483 637.358A8.2418 8.2418 0 0 0 -10.6647 637.373Z\" fill=\"#00f\"/>\n",
       " <g stroke-width=\"1.133858\">\n",
       "  <path d=\"M-7.91738 637.358L-7.91739 637.339A10.9891 10.9891 0 0 0 -29.8955 637.358A10.9891 10.9891 0 0 0 -7.91739 637.378Z\" stroke=\"black\"/>\n",
       " </g>\n",
       " <path d=\"M15.4634 645.848L15.4634 645.834A8.2418 8.2418 0 0 0 -1.02018 645.848A8.2418 8.2418 0 0 0 15.4634 645.862Z\" fill=\"#00f\"/>\n",
       " <g stroke-width=\"1.133858\">\n",
       "  <path d=\"M18.2107 645.848L18.2107 645.829A10.9891 10.9891 0 0 0 -3.76745 645.848A10.9891 10.9891 0 0 0 18.2107 645.867Z\" stroke=\"black\"/>\n",
       " </g>\n",
       "</svg>\n"
      ],
      "text/plain": [
       "<pyx.canvas.canvas at 0x1c22752240>"
      ]
     },
     "metadata": {},
     "output_type": "display_data"
    }
   ],
   "source": [
    "display( sim.model.draw_lattices(size=2.0, dG_format=\"%i\") )"
   ]
  },
  {
   "cell_type": "markdown",
   "metadata": {},
   "source": [
    "All finished. In the next chapter, we'll look at how you can get a better handle on your model by changing parameters in real-time and seeing the effects."
   ]
  },
  {
   "cell_type": "code",
   "execution_count": 10,
   "metadata": {},
   "outputs": [],
   "source": [
    "sim.done()"
   ]
  }
 ],
 "metadata": {
  "kernelspec": {
   "display_name": "Python 3",
   "language": "python",
   "name": "python3"
  },
  "language_info": {
   "codemirror_mode": {
    "name": "ipython",
    "version": 3
   },
   "file_extension": ".py",
   "mimetype": "text/x-python",
   "name": "python",
   "nbconvert_exporter": "python",
   "pygments_lexer": "ipython3",
   "version": "3.7.3"
  }
 },
 "nbformat": 4,
 "nbformat_minor": 2
}
