{
 "cells": [
  {
   "cell_type": "code",
   "execution_count": 1,
   "metadata": {},
   "outputs": [],
   "source": [
    "%matplotlib inline\n",
    "\n",
    "import sys, os\n",
    "sys.path.append(os.path.abspath(\"..\")) # add parent directory for import"
   ]
  },
  {
   "cell_type": "markdown",
   "metadata": {},
   "source": [
    "## Chapter 1: The Basics\n",
    "\n",
    "Welcome to the itcsimlib tutorial. This tutorial will guide you through a series of tasks that cover the essential itcsimlib \"experience\": simulating experiments, evaluating different models, fitting a model to experimental data, etc.\n",
    "\n",
    "Note that itcsimlib doesn't possess a GUI. You will need to write scripts in Python or Jupyter notebooks (like this one!) that make use of itcsimlib classes and functions. Users of XPLOR-NIH and other programmatic analysis tools will find this quite familiar. If you're not completely comfortable with Python, don't worry! These tutorial files themselves can be used as good starting points for your own experiments, as well as the scripts in the \"examples\" directory.\n",
    "\n",
    "It's up to you whether you want to use Jupyter notebooks or straight \".py\" text files. There's a slight performance penalty when using Jupyter notebooks, but the built-in documentation capabilities afforded by Jupyter is usually worth it, because it's always good idea to explain your reasoning at each step both for the benefit of yourself later on and for those attempting to understand your work.\n",
    "\n",
    "First up, we need to import all of the core itcsimlib classes:"
   ]
  },
  {
   "cell_type": "code",
   "execution_count": 2,
   "metadata": {},
   "outputs": [],
   "source": [
    "from itcsimlib import *"
   ]
  },
  {
   "cell_type": "markdown",
   "metadata": {},
   "source": [
    "Now let's actually create an ITC simulator by instantiating an ITCSim (simulator) object:"
   ]
  },
  {
   "cell_type": "code",
   "execution_count": 3,
   "metadata": {},
   "outputs": [
    {
     "data": {
      "text/plain": [
       "<itcsimlib.itc_sim.ITCSim at 0x1c16f2d128>"
      ]
     },
     "execution_count": 3,
     "metadata": {},
     "output_type": "execute_result"
    }
   ],
   "source": [
    "sim = ITCSim(T0=298.15, units=\"kcal\", verbose=True)\n",
    "sim"
   ]
  },
  {
   "cell_type": "markdown",
   "metadata": {},
   "source": [
    "The arguments necessary to create the simulator should be intuitively straightforward.\n",
    "\n",
    "Because many thermodynamic parameters vary with temperature, you'll need to specify a reference temperature (the `T0` argument), which becomes especially important when you're working with data acquired at multiple experimental temperatures.\n",
    "\n",
    "The `units` argument is also intuitive, and can be `J` or `kJ` for Joules or kilojoules, `cal`, or `kcal` for calories and kilocalories respectively.\n",
    "\n",
    "Lastly, the `verbose` argument tells the simulator whether or not to print extra information when you run the script. You probably want that info, so here the argument is set to True\n",
    "\n",
    "Next, let's add a theoretical (i.e. \"synthetic\") ITC experiment to the simulator:"
   ]
  },
  {
   "cell_type": "code",
   "execution_count": 4,
   "metadata": {},
   "outputs": [
    {
     "data": {
      "text/plain": [
       "<itcsimlib.itc_experiment.ITCExperimentSynthetic at 0x1c16f96630>"
      ]
     },
     "execution_count": 4,
     "metadata": {},
     "output_type": "execute_result"
    }
   ],
   "source": [
    "sim.add_experiment_synthetic(\n",
    "\tT=298.15,\n",
    "\tV0=1416.6,\n",
    "\tinjections=[5.0]*50,\n",
    "\tCell={\"Macromolecule\":1E-6},\n",
    "\tSyringe={\"Ligand\":30E-6},\n",
    "\tnoise=1.0,\n",
    "\ttitle='Test_Experiment_1'\n",
    ")"
   ]
  },
  {
   "cell_type": "markdown",
   "metadata": {},
   "source": [
    "This theoretical experiment takes place at 25C (298.15K), has a starting cell volume of 1416.6 uL, and is comprised of fifty 5 uL injections.\n",
    "\n",
    "The cell contains our binding macromolecule at a starting concentration of 1 uMol concentration, while our syringe contains our ligand at 30 uMol. Here, we've chosen to add 1 kcal/mol simulated noise. We've also given the experiment the catchy name `Test_Experiment_1`.\n",
    "\n",
    "However, to model a binding process, you'll need specify a model. Let's use an independent two-mode description of binding. We'll need to import it first:"
   ]
  },
  {
   "cell_type": "code",
   "execution_count": 5,
   "metadata": {},
   "outputs": [],
   "source": [
    "from itcsimlib.model_independent import NModes\n",
    "\n",
    "sim.set_model( NModes(modes=2) )"
   ]
  },
  {
   "cell_type": "markdown",
   "metadata": {},
   "source": [
    "This makes a new instance of this model, and we've told it that it we'd like to have two independent modes via the `modes=2` argument.\n",
    "\n",
    "To see the details of the model, we can just print the model to our console, which is very useful as it will tell us the names of the binding components and information about all the model's fitting parameters:"
   ]
  },
  {
   "cell_type": "code",
   "execution_count": 6,
   "metadata": {},
   "outputs": [
    {
     "name": "stdout",
     "output_type": "stream",
     "text": [
      "\n",
      "Model: itcsimlib.model_independent.NModes\n",
      "\n",
      "Description:\n",
      "A 4n-parameter phenomological model describing binding to n independent types of sites.\n",
      "\n",
      "Components:\n",
      "Index\tName\tDescription\n",
      "1)\tMacromolecule\t\n",
      "2)\tLigand\t\n",
      "\n",
      "Parameters:\n",
      "Index\tParam     Type                Value               Description\n",
      "1)\tn1        Stoichiometry       1.000 sites         Binding site stoichiometry\n",
      "2)\tdG1       Free energy         0.000 kcal/mol      Free energy change upon binding\n",
      "3)\tdH1       Enthalpy            0.000 kcal/mol      Enthalpy change upon binding\n",
      "4)\tdCp1      Heat capacity       0.000 kcal/mol/K    Heat capacity change\n",
      "5)\tn2        Stoichiometry       1.000 sites         Binding site stoichiometry\n",
      "6)\tdG2       Free energy         0.000 kcal/mol      Free energy change upon binding\n",
      "7)\tdH2       Enthalpy            0.000 kcal/mol      Enthalpy change upon binding\n",
      "8)\tdCp2      Heat capacity       0.000 kcal/mol/K    Heat capacity change\n",
      "\n"
     ]
    }
   ],
   "source": [
    "print(sim.model)"
   ]
  },
  {
   "cell_type": "markdown",
   "metadata": {},
   "source": [
    "You'll notice that all of the thermodynamic parameters are set to zero. Let's change some of these to more reasonable values."
   ]
  },
  {
   "cell_type": "code",
   "execution_count": 7,
   "metadata": {},
   "outputs": [],
   "source": [
    "sim.set_model_params(n1=1, n2=3, dG1=-11, dG2=-10, dH1=-15, dH2=+10)"
   ]
  },
  {
   "cell_type": "markdown",
   "metadata": {},
   "source": [
    "Remember that back when we created the simulator we specified our values would be in kcal.\n",
    "\n",
    "With these arguments, we've said that one binding mode occurs with a stoichiometry of 1:1 ligand to macromolecule, and with a free energy change of -11 kcal/mol, and an exothermic change in enthalpy of -15 kcal/mol\n",
    "\n",
    "The second binding mode occurs with a stoichiometry of 3 ligands per molecule, a slightly weaker -10 kcal/mol free energy change, and an endothermic change in enthalpy of +10 kcal/mol.\n",
    "\n",
    "Now that we've updated the model parameters, let's verify that they've been set."
   ]
  },
  {
   "cell_type": "code",
   "execution_count": 8,
   "metadata": {},
   "outputs": [
    {
     "name": "stdout",
     "output_type": "stream",
     "text": [
      "\n",
      "Model: itcsimlib.model_independent.NModes\n",
      "\n",
      "Description:\n",
      "A 4n-parameter phenomological model describing binding to n independent types of sites.\n",
      "\n",
      "Components:\n",
      "Index\tName\tDescription\n",
      "1)\tMacromolecule\t\n",
      "2)\tLigand\t\n",
      "\n",
      "Parameters:\n",
      "Index\tParam     Type                Value               Description\n",
      "1)\tn1        Stoichiometry       1.000 sites         Binding site stoichiometry\n",
      "2)\tdG1       Free energy         -11.000 kcal/mol    Free energy change upon binding\n",
      "3)\tdH1       Enthalpy            -15.000 kcal/mol    Enthalpy change upon binding\n",
      "4)\tdCp1      Heat capacity       0.000 kcal/mol/K    Heat capacity change\n",
      "5)\tn2        Stoichiometry       3.000 sites         Binding site stoichiometry\n",
      "6)\tdG2       Free energy         -10.000 kcal/mol    Free energy change upon binding\n",
      "7)\tdH2       Enthalpy            10.000 kcal/mol     Enthalpy change upon binding\n",
      "8)\tdCp2      Heat capacity       0.000 kcal/mol/K    Heat capacity change\n",
      "\n"
     ]
    }
   ],
   "source": [
    "print(sim.model)"
   ]
  },
  {
   "cell_type": "markdown",
   "metadata": {},
   "source": [
    "Just setting the parameters doesn't really do anything. Now we need to run the simulator, which will populate our synthetic experiment:"
   ]
  },
  {
   "cell_type": "code",
   "execution_count": 9,
   "metadata": {},
   "outputs": [
    {
     "name": "stderr",
     "output_type": "stream",
     "text": [
      "/Users/elihuihms/anaconda3/lib/python3.7/site-packages/IPython/core/interactiveshell.py:2880: UserWarning: Convergence precision is greater than 1% of mode 1 Kd (8.6E-09). Setting precision to 1E-11.\n",
      "  return runner(coro)\n"
     ]
    },
    {
     "data": {
      "text/plain": [
       "417.8283649503726"
      ]
     },
     "execution_count": 9,
     "metadata": {},
     "output_type": "execute_result"
    }
   ],
   "source": [
    "sim.run()"
   ]
  },
  {
   "cell_type": "markdown",
   "metadata": {},
   "source": [
    "Hopefully, our simulation goes off without a hitch, although we may get a warning or two if itcsimlib has to internally update the precision of the model.\n",
    "\n",
    "After a successful simulation, any of the experiments that we've assigned will now contain theoretical binding data (in this case, we have just the one experiment). Let's take a look at the simulated curves:"
   ]
  },
  {
   "cell_type": "code",
   "execution_count": 10,
   "metadata": {},
   "outputs": [
    {
     "data": {
      "image/png": "[encoded data removed]",
      "text/plain": [
       "<Figure size 432x288 with 1 Axes>"
      ]
     },
     "metadata": {
      "needs_background": "light"
     },
     "output_type": "display_data"
    }
   ],
   "source": [
    "sim.make_plots()"
   ]
  },
  {
   "cell_type": "markdown",
   "metadata": {},
   "source": [
    "Note that if we'd provided a `hardcopy=True` argument to `make_plots()`, itcsimlib will save plots to a file instead of just displaying them in a plot window.\n",
    "\n",
    "When we're all done, we need to tell the simulator so it can stop any processing threads and clean up:"
   ]
  },
  {
   "cell_type": "code",
   "execution_count": 11,
   "metadata": {},
   "outputs": [],
   "source": [
    "sim.done()"
   ]
  },
  {
   "cell_type": "markdown",
   "metadata": {},
   "source": [
    "Congratulations. You've reached the end of Chapter 1. In the next chapter we'll cover fitting real experimental data with a model."
   ]
  }
 ],
 "metadata": {
  "kernelspec": {
   "display_name": "Python 3",
   "language": "python",
   "name": "python3"
  },
  "language_info": {
   "codemirror_mode": {
    "name": "ipython",
    "version": 3
   },
   "file_extension": ".py",
   "mimetype": "text/x-python",
   "name": "python",
   "nbconvert_exporter": "python",
   "pygments_lexer": "ipython3",
   "version": "3.7.3"
  }
 },
 "nbformat": 4,
 "nbformat_minor": 2
}
