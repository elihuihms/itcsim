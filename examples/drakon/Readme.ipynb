{
 "cells": [
  {
   "cell_type": "code",
   "execution_count": 1,
   "metadata": {},
   "outputs": [],
   "source": [
    "%matplotlib inline"
   ]
  },
  {
   "cell_type": "markdown",
   "metadata": {},
   "source": [
    "## DRAKON models in _itcsimlib_\n",
    "\n",
    "The DRAKON visual programming language https://en.wikipedia.org/wiki/DRAKON can be used to build complex statistical thermodynamic models with very little actual code. An added benefit is that the visual DRAKON models can be shared and potentially understood more readily than a model constructed in Python or C.\n",
    "\n",
    "The DRAKON editor/IDE is free and cross-platform, and can be downloaded at http://drakon-editor.sourceforge.net/. There is also a subscription-based web editor available at https://drakonhub.com/.\n",
    "\n",
    "### Example 1: Non-cooperative binding\n",
    "\n",
    "To get started with building a DRAKON model, copy the basic itcsimlib DRAKON model of non-cooperative binding to an eight-site circular lattice (noncoop.drn). Note that all itcsimlib DRAKON models must have the following methods (functions):\n",
    "1. `setup()` defines the size of the Ising latice and any model parameters. This is always a required method.\n",
    "2. `configuration()` _**OR**_ `site()`. The former is evaluated once for each configuration and determines the configuration's free energy and enthalpy. The latter is evaluated for every site in every potential configuration of the lattice, and thus defines the free energy and enthalpy of each configuration.\n",
    "\n",
    "_Note: if your model has both a `configuration()` and a `site()` method, the configuration method will take precedence and your `site()` method will be ignored._"
   ]
  },
  {
   "cell_type": "markdown",
   "metadata": {},
   "source": [
    "![drakon_noncoopsetup](img/drakon_noncoopsetup.png)"
   ]
  },
  {
   "cell_type": "markdown",
   "metadata": {},
   "source": [
    "The setup method must, at the very least, initialize the model with the specified number of sites in the lattice configurations and whether or not the lattice is circular using `self.initialize()`. This is only relevant when evaluating the occupancy of neighboring sites using the built-in `self.occupied()` method, more on this later.\n",
    "\n",
    "The setup method should also define all of the model parameters. In the above example, our non-cooperative model has just three:\n",
    "1. The free energy change upon binding (dG_bind)\n",
    "2. The enthalpy change upon binding (dH_bind)\n",
    "3. The heat capacity change upon binding (dCp_bind)\n",
    "\n",
    "Note that accounting for changes in heat capacity are only necessary if you are performing experiments at multiple temperatures. Note also that you must specify a _type_ for each parameter. Your choices are:\n",
    "* \"dG\" for free energy parameters\n",
    "* \"dH\" for enthalpy parameters\n",
    "* \"dCp\" for heat capacity parameters\n",
    "* \"dS\" for entropy parameters\n",
    "* \"n\" for stochiometry or other parameters\n",
    "\n",
    "Unlike `setup()`, which is only called once, and only then to define the model, the `site()` method is called for every site in every lattice configuration to determine the energetics for that particular configuration:"
   ]
  },
  {
   "cell_type": "markdown",
   "metadata": {},
   "source": [
    "![drakon_noncoopsite](img/drakon_noncoopsite.png)"
   ]
  },
  {
   "cell_type": "markdown",
   "metadata": {},
   "source": [
    "There are really only three critical functions necessary in the DRAKON flow diagram, all of which are shown above:\n",
    "1. `self.occupied()`, which tests whether or not the specified site in the current configuration contains a ligand.\n",
    "2. `self.add_dG()`, which adds the specified free energy to the configuration.\n",
    "3. `self.add_dH()`, which adds the specified enthalpy to the configuration.\n",
    "\n",
    "To enable linear van't Hoff-based correction of free energy at different temperatures, you must specify both the reference dG, dH, and dCp values for the `add_dG()` method. If all of your titrations are at the same temperature, or you have a priori knowledge that the heat capacity change is minimal, you can simply leave out the dH and dCp terms. Same goes for the `add_dH()` method.\n",
    "\n",
    "You may also pass expressions consisting of model parameters as arguments to the `add_dG` and `add_dH` methods. For example, if you wish to explicitly state that some bound states only induce half of a the `dG_bind` parameter in free energy, you could state `self.add_dG(config, '0.5*dG_bind')`. Because each expression must be evaluated individually, this will likely cause the model to take longer to evaluate.\n",
    "\n",
    "When your model is complete, compile the python module from your diagram by selecting \"Generate Code\" from the DRAKON menu. If there are no issues with your diagram, you'll have model that is ready to be evaluated in any itcsimlib script:"
   ]
  },
  {
   "cell_type": "code",
   "execution_count": 2,
   "metadata": {},
   "outputs": [
    {
     "name": "stdout",
     "output_type": "stream",
     "text": [
      "\n",
      "Model: noncoop.Model\n",
      "\n",
      "Description:\n",
      "None\n",
      "\n",
      "Components:\n",
      "Index\tName\tDescription\n",
      "1)\tNone\tA lattice-binding ligand\n",
      "2)\tNone\tA lattice-binding ligand\n",
      "\n",
      "Parameters:\n",
      "Index\tParam     Type                Value               Description\n",
      "1)\tdG_bind   Free energy         -10.000 kcal/mol    \n",
      "2)\tdH_bind   Enthalpy            -5.000 kcal/mol     \n",
      "3)\tdCp_bind  Heat capacity       0.000 kcal/mol/K    \n",
      "\n"
     ]
    }
   ],
   "source": [
    "import noncoop # this is our DRAKON model module\n",
    "\n",
    "drakon_model = noncoop.Model() \n",
    "drakon_model.set_units('kcal')\n",
    "drakon_model.set_params(dG_bind=-10.0, dH_bind=-5.0, dCp_bind=0.0)\n",
    "\n",
    "print drakon_model"
   ]
  },
  {
   "cell_type": "markdown",
   "metadata": {},
   "source": [
    "As you can see, the three model parameters we defined in our DRAKON `setup()` diagram appear correctly. Since this is a non-cooperative model, let's make sure that it provides the same results as a simple non-Ising model:"
   ]
  },
  {
   "cell_type": "code",
   "execution_count": 3,
   "metadata": {
    "scrolled": true
   },
   "outputs": [
    {
     "data": {
      "image/png": "[encoded data removed]",
      "text/plain": [
       "<Figure size 432x288 with 1 Axes>"
      ]
     },
     "metadata": {},
     "output_type": "display_data"
    }
   ],
   "source": [
    "from itcsimlib import *\n",
    "\n",
    "sim = ITCSim(T0=298.15,units=\"kcal\",verbose=True)\n",
    "sim.add_experiment_synthetic(\n",
    "\tT=298.15,\n",
    "\tV0=1416.6,\n",
    "\tinjections=[5.0]*50,\n",
    "\tCell={\"Lattice\":1E-6},\n",
    "\tSyringe={\"Ligand\":80E-6},\n",
    "\tnoise=0.01,\n",
    "\ttitle='DRAKON comparison')\n",
    "\n",
    "sim.set_model( drakon_model )\n",
    "sim.run()\n",
    "sim.make_plots()"
   ]
  },
  {
   "cell_type": "markdown",
   "metadata": {},
   "source": [
    "Let's switch the simulator to use a basic single binding model, and re-evaluate."
   ]
  },
  {
   "cell_type": "code",
   "execution_count": 4,
   "metadata": {},
   "outputs": [
    {
     "data": {
      "image/png": "[encoded data removed]",
      "text/plain": [
       "<Figure size 432x288 with 1 Axes>"
      ]
     },
     "metadata": {},
     "output_type": "display_data"
    }
   ],
   "source": [
    "from itcsimlib.model_independent import NModes\n",
    "\n",
    "# for Ising models, proteins are lattices!\n",
    "sim.experiments[0].change_component_name(old_name=\"Lattice\",new_name=\"Macromolecule\")\n",
    "\n",
    "simple_model = NModes(modes=1)\n",
    "simple_model.precision = 1E-12\n",
    "simple_model.set_units('kcal')\n",
    "simple_model.set_params(n1=8, dG1=-10.0, dH1=-5.0, dCp1=0.0)\n",
    "\n",
    "sim.set_model( simple_model )\n",
    "sim.run()\n",
    "sim.make_plots()"
   ]
  },
  {
   "cell_type": "markdown",
   "metadata": {},
   "source": [
    "It's apparent that both models provide the same results.\n",
    "\n",
    "### Example 2: Complex models\n",
    "\n",
    "Lets generate and evaluate a more complex DRAKON model. In the chaperone GroEL, there are two associated rings of seven sites each. If we define a lattice of 14 sites split into two sets of seven each, we can use the existing Ising model formalism. Here's the `setup()` method for this model:"
   ]
  },
  {
   "cell_type": "markdown",
   "metadata": {},
   "source": [
    "![drakon_groelsetup](img/drakon_groelsetup.png)"
   ]
  },
  {
   "cell_type": "markdown",
   "metadata": {},
   "source": [
    "In the previous model, we used `site()` to examine each site of the configuration explicitly and build the aggregate energies for each configuration. In this model, we'll generate the free energies and enthalpies of the configuration directly using `configuration()`:"
   ]
  },
  {
   "cell_type": "markdown",
   "metadata": {},
   "source": [
    "![drakon_groelconfig](img/drakon_groelconfig.png)"
   ]
  },
  {
   "cell_type": "markdown",
   "metadata": {},
   "source": [
    "In this model, we add up the free energy and enthalpies of binding as before, but we also keep track of the number of ligands bound to each \"ring\". If those are larger than some saturation stoichiometry, we can impose an additional free energy (whether it is positive or negative will determine if it is negatively or positively cooperative binding).\n",
    "\n",
    "Let's first simulate weakly anticooperative binding that kicks in at four ligands per ring:"
   ]
  },
  {
   "cell_type": "code",
   "execution_count": 5,
   "metadata": {},
   "outputs": [
    {
     "data": {
      "image/png": "[encoded data removed]",
      "text/plain": [
       "<Figure size 432x288 with 1 Axes>"
      ]
     },
     "metadata": {},
     "output_type": "display_data"
    }
   ],
   "source": [
    "import groel\n",
    "\n",
    "groel_model = groel.Model()\n",
    "groel_model.precision = 1E-12\n",
    "groel_model.set_units('kcal')\n",
    "groel_model.set_params( dG_bind=-10.0, dG_couple=0.5, ring_sat=4, dH_bind=-5.0)\n",
    "\n",
    "sim.remove_all_experiments()\n",
    "sim.add_experiment_synthetic(\n",
    "\tT=298.15,\n",
    "\tV0=1416.6,\n",
    "\tinjections=[5.0]*50,\n",
    "\tCell={\"Lattice\":1E-6},\n",
    "\tSyringe={\"Ligand\":1E-4},\n",
    "\tnoise=0.01,\n",
    "\ttitle='DRAKON GroEL model')\n",
    "\n",
    "sim.set_model( groel_model )\n",
    "sim.run()\n",
    "sim.make_plots()"
   ]
  },
  {
   "cell_type": "markdown",
   "metadata": {},
   "source": [
    "Interesting! How about positive cooperativity?\n",
    "\n",
    "(Recall that for synthetic models, the dots are always the first set of simulated data for the experiment, and subsequent simulations appear as the solid fit line)."
   ]
  },
  {
   "cell_type": "code",
   "execution_count": 6,
   "metadata": {},
   "outputs": [
    {
     "data": {
      "image/png": "[encoded data removed]",
      "text/plain": [
       "<Figure size 432x288 with 1 Axes>"
      ]
     },
     "metadata": {},
     "output_type": "display_data"
    }
   ],
   "source": [
    "groel_model.set_params( dG_bind=-10.0, dG_couple=-0.5, ring_sat=4, dH_bind=-5.0)\n",
    "\n",
    "sim.run()\n",
    "sim.make_plots()"
   ]
  },
  {
   "cell_type": "markdown",
   "metadata": {},
   "source": [
    "Because this model is just a regular Ising model, we can still easily calculate the partition function:"
   ]
  },
  {
   "cell_type": "code",
   "execution_count": 7,
   "metadata": {},
   "outputs": [
    {
     "data": {
      "text/latex": [
       "$$K_{dG bind}^{14} K_{dG couple}^{14} L^{14} + 14 K_{dG bind}^{13} K_{dG couple}^{14} L^{13} + 91 K_{dG bind}^{12} K_{dG couple}^{14} L^{12} + 364 K_{dG bind}^{11} K_{dG couple}^{14} L^{11} + K_{dG bind}^{10} K_{dG couple}^{7} L^{10} \\left(931 K_{dG couple}^{7} + 70\\right) + K_{dG bind}^{9} K_{dG couple}^{7} L^{9} \\left(1470 K_{dG couple}^{7} + 532\\right) + K_{dG bind}^{8} K_{dG couple}^{7} L^{8} \\left(1225 K_{dG couple}^{7} + 1778\\right) + 3432 K_{dG bind}^{7} K_{dG couple}^{7} L^{7} + K_{dG bind}^{6} L^{6} \\left(1778 K_{dG couple}^{7} + 1225\\right) + K_{dG bind}^{5} L^{5} \\left(532 K_{dG couple}^{7} + 1470\\right) + K_{dG bind}^{4} L^{4} \\left(70 K_{dG couple}^{7} + 931\\right) + 364 K_{dG bind}^{3} L^{3} + 91 K_{dG bind}^{2} L^{2} + 14 K_{dG bind} L + 1$$"
      ],
      "text/plain": [
       "<IPython.core.display.Math object>"
      ]
     },
     "metadata": {},
     "output_type": "display_data"
    }
   ],
   "source": [
    "import sympy\n",
    "latex_eqn = sympy.latex(groel_model.get_partition_function())\n",
    "\n",
    "from IPython.display import display, Math\n",
    "display(Math(latex_eqn))"
   ]
  }
 ],
 "metadata": {
  "kernelspec": {
   "display_name": "Python 2",
   "language": "python",
   "name": "python2"
  },
  "language_info": {
   "codemirror_mode": {
    "name": "ipython",
    "version": 2
   },
   "file_extension": ".py",
   "mimetype": "text/x-python",
   "name": "python",
   "nbconvert_exporter": "python",
   "pygments_lexer": "ipython2",
   "version": "2.7.14"
  }
 },
 "nbformat": 4,
 "nbformat_minor": 2
}
